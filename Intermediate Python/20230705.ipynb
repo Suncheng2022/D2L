{
 "cells": [
  {
   "attachments": {},
   "cell_type": "markdown",
   "metadata": {},
   "source": [
    "Dell conda:pt17"
   ]
  },
  {
   "cell_type": "code",
   "execution_count": 4,
   "metadata": {},
   "outputs": [
    {
     "name": "stdout",
     "output_type": "stream",
     "text": [
      "first normal arg:suncheng\n",
      "arg through *argv:you\n",
      "arg through *argv:must\n",
      "arg through *argv:study\n",
      "arg through *argv:python\n",
      "arg through *argv:quickly!\n"
     ]
    }
   ],
   "source": [
    "# *args的用法：用于传递不定数量的参数\n",
    "def test_var_args(f_arg, *argv):    # *argv名字可以自定义\n",
    "    print(f'first normal arg:{f_arg}')\n",
    "    for arg in argv:\n",
    "        print(f'arg through *argv:{arg}')\n",
    "\n",
    "test_var_args('suncheng', 'you', 'must', 'study', 'python', 'quickly!')"
   ]
  },
  {
   "cell_type": "code",
   "execution_count": 5,
   "metadata": {},
   "outputs": [
    {
     "name": "stdout",
     "output_type": "stream",
     "text": [
      "name=sc\n",
      "age=20\n",
      "sex=male\n"
     ]
    }
   ],
   "source": [
    "# **kwargs的用法：传递不定长度的键值对\n",
    "def greet_me(user, **kwargs):\n",
    "    for k, v in kwargs.items():\n",
    "        print(f'{k}={v}')\n",
    "\n",
    "greet_me('suncheng', name='sc', age='20', sex='male')"
   ]
  },
  {
   "cell_type": "code",
   "execution_count": 16,
   "metadata": {},
   "outputs": [
    {
     "name": "stdout",
     "output_type": "stream",
     "text": [
      "arg1:1 arg2:3 arg3:sc\n",
      "arg1:1 arg2:3 arg3:sc\n",
      "Hello, suncheng, here are some infomation about yourself.\n",
      "family member_1:Libai\n",
      "family member_1:Dufu\n",
      "family member_1:Xinqiji\n",
      "your name is suncheng.\n",
      "your age is 20.\n",
      "your sex is male.\n"
     ]
    }
   ],
   "source": [
    "# 使用*args和**kwargs调用函数\n",
    "def test_args_kwargs(arg1, arg2, arg3):\n",
    "    print(f'arg1:{arg1} '\n",
    "          f'arg2:{arg2} '\n",
    "          f'arg3:{arg3}')\n",
    "\n",
    "# 使用*args\n",
    "args = [1, 3, 'sc']\n",
    "test_args_kwargs(*args)     # 忘记加*，报错\n",
    "# 使用**kwargs\n",
    "kwargs = {'arg1':1, 'arg3':'sc', 'arg2':3}      # 注意key与形参顺序，且key必须与形参名称相同\n",
    "test_args_kwargs(**kwargs)\n",
    "\n",
    "# 在函数参数中混合使用 形参、*args、**kwargs时的调用顺序：\n",
    "# 形参、*args、**kwargs\n",
    "def myfun(user, *people, **info):\n",
    "    print(f'Hello, {user}, here are some infomation about yourself.')\n",
    "    for person in people:\n",
    "        print(f'family member_1:{person}')\n",
    "    for k, v in info.items():\n",
    "        print(f'your {k} is {v}.')\n",
    "\n",
    "user = 'suncheng'\n",
    "people = ['Libai', 'Dufu', 'Xinqiji']\n",
    "info = {'name':'suncheng', 'age':20, 'sex':'male'}\n",
    "myfun(user, *people, **info)        # 调用时务必加 * ！！！\n",
    "# 总结：*args传参，函数中可直接当做列表用、**kwargs传参，函数中可直接当做字典用"
   ]
  },
  {
   "cell_type": "code",
   "execution_count": 32,
   "metadata": {},
   "outputs": [
    {
     "name": "stdout",
     "output_type": "stream",
     "text": [
      "0\n",
      "1\n",
      "2\n",
      "3\n",
      "4\n",
      "5\n",
      "6\n",
      "7\n",
      "8\n",
      "9\n",
      "1 1 2 3 5 8 13 21 34 55 89 144 233 377 610 987 1597 2584 4181 6765 10946 17711 28657 46368 75025 121393 196418 317811 514229 832040 1346269 2178309 3524578 5702887 9227465 14930352 24157817 39088169 63245986 102334155 165580141 267914296 433494437 701408733 1134903170 1836311903 2971215073 4807526976 7778742049 12586269025 20365011074 32951280099 53316291173 86267571272 139583862445 225851433717 365435296162 591286729879 956722026041 1548008755920 2504730781961 4052739537881 6557470319842 10610209857723 17167680177565 27777890035288 44945570212853 72723460248141 117669030460994 190392490709135 308061521170129 498454011879264 806515533049393 1304969544928657 2111485077978050 3416454622906707 5527939700884757 8944394323791464 14472334024676221 23416728348467685 37889062373143906 61305790721611591 99194853094755497 160500643816367088 259695496911122585 420196140727489673 679891637638612258 1100087778366101931 1779979416004714189 2880067194370816120 4660046610375530309 7540113804746346429 12200160415121876738 19740274219868223167 31940434634990099905 51680708854858323072 83621143489848422977 135301852344706746049 218922995834555169026 354224848179261915075 "
     ]
    }
   ],
   "source": [
    "# 1.可迭代对象 \n",
    "# 2.迭代器 \n",
    "# 3.迭代\n",
    "# 综上，可理解 生成器\n",
    "\n",
    "# 1.可迭代对象，能提供迭代器的任意对象\n",
    "# 只要定义了: __iter__() 可返回迭代器的方法\n",
    "#      或    __getitem__() 支持下标索引\n",
    "\n",
    "# 2.迭代器 \n",
    "# 只要定义了__next__()方法\n",
    "\n",
    "# 3.迭代\n",
    "# 就是我们耳熟能详的 遍历，这就是迭代\n",
    "\n",
    "# 【生成器】\n",
    "# 生成器也是一种迭代器，但只能迭代/遍历一次。\n",
    "# 因为它并没有把所有值保存在内存，而是运行时 生成 值。可以通过遍历使用，或传递给任意可进行迭代的函数和结构。\n",
    "# 生成器并不是 返回 一个值，而是 yield生出 一个值。\n",
    "# 因为并不是一下返回全部数据，所以节省内存\n",
    "\n",
    "# demo1\n",
    "def generator_fun():\n",
    "    for i in range(10):\n",
    "        yield i\n",
    "\n",
    "gen = generator_fun()     # 会返回生成器 <generator object generator_fun at 0x000001C23A479430>\n",
    "for item in generator_fun():    # 也可以 for item in gen: pass ，也是正确的\n",
    "    print(item)\n",
    "\n",
    "# yield 讲的很好 https://blog.csdn.net/mieleizhi0522/article/details/82142856\n",
    "# demo2\n",
    "def gen_fibon(n):\n",
    "    a, b = 1, 1     # 人家这也对，只是没有0罢了\n",
    "    for _ in range(n):\n",
    "        yield a\n",
    "        a, b = b, a + b\n",
    "\n",
    "for x in gen_fibon(100):\n",
    "    print(x, end=' ')\n",
    "\n",
    "# 斐波那契数列\n",
    "# def ori_fibon(n):\n",
    "#     a, b = 0, 1\n",
    "#     for _ in range(n):\n",
    "#         a, b = b, a + b\n",
    "#     return a\n",
    "\n",
    "# ori_fibon(4)\n",
    "\n",
    "# 自己改为生成器\n",
    "# def gen_fibon(n):\n",
    "#     a, b = 0, 1\n",
    "#     for _ in range(n):\n",
    "#         yield a\n",
    "#         a, b = b, a + b\n",
    "\n",
    "# for x in fibon(100):\n",
    "#     print(x)"
   ]
  },
  {
   "cell_type": "code",
   "execution_count": 33,
   "metadata": {},
   "outputs": [
    {
     "name": "stdout",
     "output_type": "stream",
     "text": [
      "0\n",
      "1\n",
      "2\n"
     ]
    },
    {
     "ename": "StopIteration",
     "evalue": "",
     "output_type": "error",
     "traceback": [
      "\u001b[1;31m---------------------------------------------------------------------------\u001b[0m",
      "\u001b[1;31mStopIteration\u001b[0m                             Traceback (most recent call last)",
      "Cell \u001b[1;32mIn[33], line 10\u001b[0m\n\u001b[0;32m      8\u001b[0m \u001b[39mprint\u001b[39m(\u001b[39mnext\u001b[39m(gen))\n\u001b[0;32m      9\u001b[0m \u001b[39mprint\u001b[39m(\u001b[39mnext\u001b[39m(gen))\n\u001b[1;32m---> 10\u001b[0m \u001b[39mprint\u001b[39m(\u001b[39mnext\u001b[39;49m(gen))\n",
      "\u001b[1;31mStopIteration\u001b[0m: "
     ]
    }
   ],
   "source": [
    "# 学习使用生成器 next\n",
    "def generator_fun():\n",
    "    for i in range(3):\n",
    "        yield i     # 只要有yield就不是普通函数，next会在yield结束行继续执行函数\n",
    "\n",
    "gen = generator_fun()\n",
    "print(next(gen))\n",
    "print(next(gen))\n",
    "print(next(gen))\n",
    "print(next(gen))    # 报错 StopIteration ，已经yield完了\n",
    "\n",
    "# 但使用for就不会报错，因为for会自动处理StopIteration"
   ]
  },
  {
   "cell_type": "code",
   "execution_count": 37,
   "metadata": {},
   "outputs": [
    {
     "name": "stdout",
     "output_type": "stream",
     "text": [
      "s\n",
      "u\n"
     ]
    }
   ],
   "source": [
    "# Python有些内置类型也支持迭代\n",
    "# 字符串虽然支持迭代，但不是迭代器\n",
    "# next('suncheng')    # 报错提示'str' object is not an iterator str不是迭代器\n",
    "\n",
    "# iter()将可迭代对象包装成 迭代器\n",
    "my_iter = iter(\"suncheng\")\n",
    "print(next(my_iter))\n",
    "print(next(my_iter))"
   ]
  },
  {
   "cell_type": "code",
   "execution_count": 42,
   "metadata": {},
   "outputs": [
    {
     "name": "stdout",
     "output_type": "stream",
     "text": [
      "[0, 1, 4, 9, 16]\n",
      "0 [0, 0]\n",
      "1 [1, 2]\n",
      "2 [4, 4]\n",
      "3 [9, 6]\n",
      "4 [16, 8]\n"
     ]
    }
   ],
   "source": [
    "# map 映射，不是dict\n",
    "# map将函数映射到输入列表中的元素上 map(fun, [item1, item2, ...])\n",
    "# 应用场景，不同元素需经历同一函数处理，并收集输出\n",
    "items = list(range(5))\n",
    "squared = map(lambda x: x ** 2, items)      # 返回迭代器 需要用list()转换一下\n",
    "print(list(squared))\n",
    "\n",
    "# 甚至可以接受函数的列表\n",
    "def fun1(x):\n",
    "    return x ** 2\n",
    "\n",
    "def fun2(x):\n",
    "    return x + x\n",
    "\n",
    "for i in items:\n",
    "    print(i, list(map(lambda x: x(i), [fun1, fun2])))"
   ]
  },
  {
   "cell_type": "code",
   "execution_count": 44,
   "metadata": {},
   "outputs": [
    {
     "name": "stdout",
     "output_type": "stream",
     "text": [
      "[-5, -4, -3, -2, -1]\n"
     ]
    }
   ],
   "source": [
    "# filter() 过滤元素\n",
    "# 函数映射到元素的结果是True则保留元素\n",
    "numRange = range(-5, 5)\n",
    "less_than_zero = filter(lambda x: x < 0, numRange)\n",
    "print(list(less_than_zero))"
   ]
  },
  {
   "cell_type": "code",
   "execution_count": 46,
   "metadata": {},
   "outputs": [
    {
     "name": "stdout",
     "output_type": "stream",
     "text": [
      "24\n"
     ]
    }
   ],
   "source": [
    "# reduce \n",
    "# reduce会将前2个元素传给函数，计算结果和第3个元素又传给函数、计算结果和第4个元素又传给函数...\n",
    "from functools import reduce\n",
    "product = reduce(lambda x, y: x * y, [1, 2, 3, 4])      # 计算累乘\n",
    "print(product)"
   ]
  },
  {
   "cell_type": "code",
   "execution_count": 47,
   "metadata": {},
   "outputs": [
    {
     "name": "stdout",
     "output_type": "stream",
     "text": [
      "交集:{'libai'}\n",
      "差集:{'suncheng', 'dufo', 'dufu'}\n"
     ]
    }
   ],
   "source": [
    "# 集合set  与list行为类似，区别在于set不包含重复值\n",
    "# 交集、并集\n",
    "valid = set(['suncheng', 'dufu', 'dufo', 'libai'])\n",
    "invalid = set(['lianxiang', 'xiaomi', 'apple', 'libai'])\n",
    "print(f'交集:{valid.intersection(invalid)}\\n'\n",
    "      f'差集:{valid.difference(invalid)}')"
   ]
  },
  {
   "cell_type": "code",
   "execution_count": 60,
   "metadata": {},
   "outputs": [
    {
     "name": "stdout",
     "output_type": "stream",
     "text": [
      "No.1 Hi, Python\n",
      "No.2 Hi, DeepLearning\n",
      "No.4 Hi, suncheng\n",
      "Now you are inside the hi() fun.\n",
      "Now you are in the greet() fun.\n",
      "Now you are in the welcome() fun.\n",
      "Now you are back in the hi() fun.\n",
      "Now you are inside the hi() fun.\n",
      "<function hi.<locals>.greet at 0x000001C23A481A60>\n",
      "Now you are in the greet() fun.\n",
      "I am doing something boring work before executing hi().\n",
      "hi, cheng sir!\n"
     ]
    }
   ],
   "source": [
    "# 【装饰器_预备知识】Python最难掌握的概念之一\n",
    "# 功能：修改其他函数功能的函数，有助于让代码更简短\n",
    "# 下面慢慢来理解\n",
    "\n",
    "# Python的函数\n",
    "def hi(name='suncheng'):\n",
    "    return f'Hi, {name}'\n",
    "\n",
    "print('No.1', hi('Python'))\n",
    "\n",
    "greet = hi\n",
    "print('No.2', greet('DeepLearning'))\n",
    "\n",
    "del hi  # 删掉hi函数\n",
    "# print('No.3', hi())     # name 'hi' is not defined\n",
    "\n",
    "print('No.4', greet())    # hi被删掉了，但greet()仍能调用\n",
    "\n",
    "# 在函数中定义函数\n",
    "def hi(name='suncheng'):\n",
    "    print(f'Now you are inside the hi() fun.')\n",
    "\n",
    "    def greet():\n",
    "        return 'Now you are in the greet() fun.'\n",
    "    \n",
    "    def welcome():\n",
    "        return 'Now you are in the welcome() fun.'\n",
    "    \n",
    "    print(greet())\n",
    "    print(welcome())\n",
    "    print(f'Now you are back in the hi() fun.')\n",
    "\n",
    "hi()\n",
    "\n",
    "# 从函数中返回函数\n",
    "def hi(name='suncheng'):\n",
    "    print(f'Now you are inside the hi() fun.')\n",
    "\n",
    "    def greet():\n",
    "        return 'Now you are in the greet() fun.'\n",
    "    \n",
    "    def welcome():\n",
    "        return 'Now you are in the welcome() fun.'\n",
    "    \n",
    "    return greet if name == 'suncheng' else welcome     # 返回函数\n",
    "\n",
    "a = hi()    # 返回没有调用的函数时，就可以传递，比如赋值给其他变量\n",
    "print(a)    # 返回值是 function，但没调用\n",
    "print(a())    # 返回值是 function，调用\n",
    "\n",
    "# 将函数作为参数传递给另一个函数\n",
    "def hi():\n",
    "    return 'hi, cheng sir!'\n",
    "\n",
    "def doSomethingBeforeHi(func):\n",
    "    print(f'I am doing something boring work before executing hi().')\n",
    "    print(func())       # 执行形参，因为形参数会传递函数过来\n",
    "\n",
    "doSomethingBeforeHi(hi)"
   ]
  },
  {
   "cell_type": "code",
   "execution_count": 62,
   "metadata": {},
   "outputs": [
    {
     "name": "stdout",
     "output_type": "stream",
     "text": [
      "I am the function which needs some decoration to remove my fou smell!\n",
      "I am doing some boring work before executing a_fun()\n",
      "I am the function which needs some decoration to remove my fou smell!\n",
      "I am doing some boring work after executing a_fun()\n"
     ]
    }
   ],
   "source": [
    "# 【装饰器】Python最难知识点之一！\n",
    "# 你的第一个装饰器，没有使用@符号\n",
    "def a_new_decorator(a_func):\n",
    "    def wrapTheFunction():\n",
    "        print(f'I am doing some boring work before executing a_fun()')\n",
    "        a_func()\n",
    "        print(f'I am doing some boring work after executing a_fun()')\n",
    "    return wrapTheFunction\n",
    "\n",
    "def a_funcion_requiring_decoration():\n",
    "    print(f'I am the function which needs some decoration to remove my fou smell!')\n",
    "\n",
    "# 直接调用a_funcion_requiring_decoration\n",
    "a_funcion_requiring_decoration()\n",
    "\n",
    "# a_funcion_requiring_decoration是上面定义的函数，现在被另一个函数的返回值赋值了\n",
    "a_funcion_requiring_decoration = a_new_decorator(a_funcion_requiring_decoration)\n",
    "# a_funcion_requiring_decoration的功能却变了，就是被wrapTheFunction给包装了一下，即被修饰了\n",
    "a_funcion_requiring_decoration()"
   ]
  },
  {
   "cell_type": "code",
   "execution_count": 66,
   "metadata": {},
   "outputs": [
    {
     "name": "stdout",
     "output_type": "stream",
     "text": [
      "I am doing some boring work before executing a_fun()\n",
      "I am the function which needs some decoration to remove my fou smell!\n",
      "I am doing some boring work after executing a_fun()\n"
     ]
    },
    {
     "data": {
      "text/plain": [
       "'wrapTheFunction'"
      ]
     },
     "execution_count": 66,
     "metadata": {},
     "output_type": "execute_result"
    }
   ],
   "source": [
    "# 使用@符号，生成被修饰的函数的简短方式\n",
    "@a_new_decorator\n",
    "def a_funcion_requiring_decoration_2():\n",
    "    \"\"\" Hey, decorate me! \"\"\"\n",
    "    print(f'I am the function which needs some decoration to remove my fou smell!')\n",
    "\n",
    "a_funcion_requiring_decoration_2()  # 被a_new_decorator修饰的函数\n",
    "\n",
    "# 二者输出均为 wrapTheFunction\n",
    "a_funcion_requiring_decoration.__name__\n",
    "a_funcion_requiring_decoration_2.__name__"
   ]
  },
  {
   "cell_type": "code",
   "execution_count": 67,
   "metadata": {},
   "outputs": [
    {
     "name": "stdout",
     "output_type": "stream",
     "text": [
      "I am doing some boring work before executing a_fun()\n",
      "I am the function which needs some decoration to remove my fou smell!\n",
      "I am doing some boring work after executing a_fun()\n",
      "a_funcion_requiring_decoration_2\n"
     ]
    }
   ],
   "source": [
    "# 使用functools.wraps解决__name__问题\n",
    "# @wraps(·)接受一个函数进行修饰，提供 复制函数名称、注释文档、参数列表等功能，让我们可以在修饰器里面访问修饰之前函数的属性。\n",
    "from functools import wraps\n",
    "\n",
    "def a_new_decorator(a_func):\n",
    "    @wraps(a_func)      # 解决__name__问题\n",
    "    def wrapTheFunction():\n",
    "        print(f'I am doing some boring work before executing a_fun()')\n",
    "        a_func()\n",
    "        print(f'I am doing some boring work after executing a_fun()')\n",
    "    return wrapTheFunction\n",
    "\n",
    "@a_new_decorator\n",
    "def a_funcion_requiring_decoration_2():\n",
    "    \"\"\" Hey, decorate me! \"\"\"\n",
    "    print(f'I am the function which needs some decoration to remove my fou smell!')\n",
    "\n",
    "a_funcion_requiring_decoration_2()\n",
    "print(a_funcion_requiring_decoration_2.__name__)    # __name__问题解决"
   ]
  },
  {
   "cell_type": "code",
   "execution_count": 69,
   "metadata": {},
   "outputs": [
    {
     "name": "stdout",
     "output_type": "stream",
     "text": [
      "Function is running.\n",
      "Function will not run.\n"
     ]
    }
   ],
   "source": [
    "# 装饰器应用场景的蓝本规范\n",
    "def decorator_name(f):\n",
    "    @wraps(f)\n",
    "    def decorated(*args, **kwargs):\n",
    "        if not can_run:\n",
    "            return 'Function will not run.'\n",
    "        return f(*args, **kwargs)\n",
    "    \n",
    "    return decorated\n",
    "\n",
    "@decorator_name\n",
    "def func():\n",
    "    return 'Function is running.'\n",
    "\n",
    "can_run = True\n",
    "print(func())\n",
    "\n",
    "can_run = False\n",
    "print(func())"
   ]
  },
  {
   "cell_type": "code",
   "execution_count": 74,
   "metadata": {},
   "outputs": [
    {
     "name": "stdout",
     "output_type": "stream",
     "text": [
      "addition_func was called.\n",
      "14\n"
     ]
    }
   ],
   "source": [
    "# 装饰器的应用--授权，用于后端\n",
    "#              日志logging\n",
    "\n",
    "# 日志\n",
    "def logit(func):\n",
    "    @wraps(func)\n",
    "    def with_logging(*args, **kwargs):\n",
    "        print(f'{func.__name__} was called.')\n",
    "        return func(*args, **kwargs)        # 这里要将 被修饰函数 的返回值进行返回，否则程序不正常\n",
    "    \n",
    "    return with_logging\n",
    "\n",
    "@logit      # 用logit修饰addition_func, 改变函数功能\n",
    "def addition_func(x):\n",
    "    return 2 * x\n",
    "\n",
    "print(addition_func(7))"
   ]
  },
  {
   "cell_type": "code",
   "execution_count": 77,
   "metadata": {},
   "outputs": [
    {
     "name": "stdout",
     "output_type": "stream",
     "text": [
      "myfunc1 was called.\n",
      "myfunc2 was called.\n"
     ]
    }
   ],
   "source": [
    "# 带参数的 装饰器\n",
    "# 以上使用装饰器时都是@decrator，后面不带参，实际上是包含一个 以函数为参数 的包裹函数\n",
    "# 下面我们学习一下能返回 包裹函数 的函数：就是在修饰器函数外面又套了一层函数而已，并不难理解\n",
    "def logit(logfile='out.log'):\n",
    "    def logging_decorator(func):    # 这才是真正的修饰函数\n",
    "        @wraps(func)\n",
    "        def wrapped_func(*args, **kwargs):\n",
    "            log = func.__name__ + ' was called.'\n",
    "            print(log)\n",
    "            with open(logfile, 'a') as f:\n",
    "                f.write(log)\n",
    "            return func(*args, **kwargs)\n",
    "        return wrapped_func\n",
    "    return logging_decorator\n",
    "\n",
    "\n",
    "@logit()    # 之前不带()是默认接收1个函数做为参数，现在带()因为外面又包了一层，好处是可以添加额外的参数了\n",
    "def myfunc1():\n",
    "    pass\n",
    "\n",
    "myfunc1()   # 打印log；文件出现log内容\n",
    "\n",
    "@logit('mylog.log')\n",
    "def myfunc2():\n",
    "    pass\n",
    "\n",
    "myfunc2()"
   ]
  },
  {
   "cell_type": "code",
   "execution_count": 86,
   "metadata": {},
   "outputs": [],
   "source": [
    "# 装饰器类\n",
    "# 类也可以用来构建装饰器\n",
    "# __init__()方法初始化类\n",
    "# __call__()方法调用真正的装饰方法\n",
    "# 类装饰器使用上比较灵活，可以参考下面链接的类修饰器\n",
    "# https://blog.csdn.net/zhh763984017/article/details/120072425\n",
    "from typing import Any\n",
    "\n",
    "class logit:\n",
    "    def __init__(self, logfile='out.log') -> None:\n",
    "        self.logfile = logfile\n",
    "    \n",
    "    def __call__(self, func) -> Any:\n",
    "        @wraps(func)\n",
    "        def wrapped_function(*args, **kwargs):\n",
    "            log_str = func.__name__ + 'was called!' + str(args) + ' ' + str(kwargs)\n",
    "            with open(self.logfile, 'a') as f:\n",
    "                f.write(log_str)\n",
    "            self.notify()\n",
    "            return func(*args, **kwargs)\n",
    "        return wrapped_function\n",
    "    \n",
    "    def notify(self):\n",
    "        pass\n",
    "\n",
    "# @logit()\n",
    "# def myfunc1():\n",
    "#     pass\n",
    "\n",
    "# myfunc1()\n",
    "\n",
    "# 为logit创建子类, 与logit有相同的效果\n",
    "class email_logit(logit):\n",
    "    def __init__(self, email='suncheng@163.com', *args, **kwargs) -> None:\n",
    "        self.email = email\n",
    "        super(email_logit, self).__init__()\n",
    "    \n",
    "    def notify(self):\n",
    "        pass\n",
    "\n",
    "@email_logit()\n",
    "def myfunc1():\n",
    "    pass\n",
    "\n",
    "myfunc1()"
   ]
  },
  {
   "cell_type": "code",
   "execution_count": 94,
   "metadata": {},
   "outputs": [
    {
     "name": "stdout",
     "output_type": "stream",
     "text": [
      "进入blog函数\n",
      "我的名字:suncheng\n",
      "耗时:0.0\n"
     ]
    }
   ],
   "source": [
    "# 对装饰器的参数不是很了解，再学习下\n",
    "# https://blog.csdn.net/zhh763984017/article/details/120072425\n",
    "import time\n",
    "\n",
    "# # 1.被装饰函数 没有参数的情况\n",
    "# def count_time(func):\n",
    "#     def wrapper():\n",
    "#         t1 = time.time()\n",
    "#         func()\n",
    "#         print(f'耗时:{time.time() - t1}')\n",
    "    \n",
    "#     return wrapper\n",
    "\n",
    "# @count_time\n",
    "# def baiyu():\n",
    "#     print(f\"I'm suncheng.\")\n",
    "#     time.sleep(2)\n",
    "\n",
    "# baiyu()\n",
    "\n",
    "# 2.被装饰函数 有参数的情况\n",
    "# 将装饰器函数优化一下，修改成可接受任意参数的装饰器\n",
    "def count_time(func):\n",
    "    def wrapper(*args, **kwargs):   # 可接受任意参数\n",
    "        t1 = time.time()\n",
    "        func(*args, **kwargs)\n",
    "        print(f'耗时:{time.time() - t1}')\n",
    "    \n",
    "    return wrapper\n",
    "\n",
    "@count_time\n",
    "def blog(name):\n",
    "    print(f'进入blog函数')\n",
    "    print(f'我的名字:{name}')\n",
    "\n",
    "blog('suncheng')"
   ]
  },
  {
   "cell_type": "code",
   "execution_count": 96,
   "metadata": {},
   "outputs": [
    {
     "name": "stdout",
     "output_type": "stream",
     "text": [
      "6\n"
     ]
    }
   ],
   "source": [
    "# global和return\n",
    "\n",
    "# 首先不使用global变量\n",
    "# def add(v1, v2):\n",
    "#     result = v1 + v2\n",
    "\n",
    "# add(2, 4)\n",
    "# print(result)   # 报错，没有定义result\n",
    "\n",
    "# 运行相同的代码，不过是将result变量声明为global之后\n",
    "# 但我们应尽可能避免使用global关键字，因为它引入了多余的变量到全局作用域\n",
    "def add(v1, v2):\n",
    "    global result       # 声明为全局，函数外也能访问了\n",
    "    result = v1 + v2\n",
    "\n",
    "add(2, 4)\n",
    "print(result)   # 报错，没有定义result"
   ]
  },
  {
   "cell_type": "code",
   "execution_count": 100,
   "metadata": {},
   "outputs": [
    {
     "name": "stdout",
     "output_type": "stream",
     "text": [
      "[1]\n",
      "[1, 2]\n",
      "[1, 2, 3]\n",
      "[1]\n",
      "[2]\n",
      "[3]\n"
     ]
    }
   ],
   "source": [
    "# 对象变动Mutation\n",
    "# 变动意味着\"可以被改动\"，不可变意思是\"常量\"\n",
    "def add_to(num, target=[]):\n",
    "    target.append(num)\n",
    "    return target\n",
    "\n",
    "# 得到意料之外的结果\n",
    "print(add_to(1))\n",
    "print(add_to(2))\n",
    "print(add_to(3))\n",
    "# 为什么调用add_to()时不是一个新列表被创建——列表的可变性\n",
    "# 在Python中，函数被定义时，默认参数只会运行一次，而不是每次被调用时都会重新运算。尽量不要定义可变类型的默认参数，以免发生未知行为。\n",
    "# 修改一下\n",
    "def add_to(num, target=None):   # 这样，每次调用不传入target参数时就会创建新列表\n",
    "    if not target:\n",
    "        target = []\n",
    "    target.append(num)\n",
    "    return target\n",
    "\n",
    "print(add_to(1))\n",
    "print(add_to(2))\n",
    "print(add_to(3))"
   ]
  },
  {
   "cell_type": "code",
   "execution_count": 102,
   "metadata": {},
   "outputs": [],
   "source": [
    "# __slots__魔法\n",
    "# Python每个类都有实例属性，默认使用字典保存\n",
    "# 但对于比较小的类来说，这些实例属性就属于消耗了，比如需要实例化许多小类\n",
    "# 使用__slots__魔法可以规避这个问题，告诉Python不要使用字典，只给固定属性分配空间\n",
    "\n",
    "# 不使用__slots__\n",
    "class MyClass:\n",
    "    __slots__ = ['name', 'identifier']      # 让类只为集合中的变量分配内存\n",
    "    def __init__(self, name, identifier) -> None:\n",
    "        self.name = name\n",
    "        self.identifier = identifier"
   ]
  },
  {
   "cell_type": "code",
   "execution_count": 103,
   "metadata": {},
   "outputs": [],
   "source": [
    "c1 = MyClass(name='sc', identifier='5247')"
   ]
  },
  {
   "cell_type": "code",
   "execution_count": 104,
   "metadata": {},
   "outputs": [],
   "source": [
    "# 虚拟环境 vitrualenv\n",
    "# 独立的Python环境\n",
    "# pip install virtualenv\n",
    "# vitrualenv myproject  # 在myproject文件夹创建vitrualenv环境，默认仅使用virtualenv内的模块\n",
    "# source bin/activate\n",
    "# deactivate    # 恢复使用全局的Python模块\n",
    "\n",
    "# smartcd  https://github.com/cxreg/smartcd"
   ]
  },
  {
   "cell_type": "code",
   "execution_count": 110,
   "metadata": {},
   "outputs": [
    {
     "name": "stdout",
     "output_type": "stream",
     "text": [
      "max_d:deque([9, 8, 7, 6, 5, 0, 1, 2, 3, 4], maxlen=10)\n",
      "max_d:deque([8, 7, 6, 5, 0, 1, 2, 3, 4, 10], maxlen=10)\n",
      "max_d:deque([11, 8, 7, 6, 5, 0, 1, 2, 3, 4], maxlen=10)\n"
     ]
    }
   ],
   "source": [
    "# 容器 collections\n",
    "# defaultdict 不需要检查key是否存在\n",
    "# Counter 统计项目出现次数\n",
    "\n",
    "# deque 双端队列\n",
    "from collections import deque\n",
    "\n",
    "d = deque()\n",
    "d.extend(range(4))  # 使用起来像列表\n",
    "# deque可以从两端取数据\n",
    "d.popleft()\n",
    "d.pop()\n",
    "# 也可以限制deque的大小\n",
    "max_d = deque(maxlen=10)\n",
    "max_d.extend(range(5))\n",
    "max_d.extendleft(range(5, 10))      # 注意插入顺序！\n",
    "print(f'max_d:{max_d}')\n",
    "max_d.append(10)    # 超出大小限制；从右边添加，那整个往左边挤，多余的挤出去\n",
    "print(f'max_d:{max_d}')\n",
    "max_d.appendleft(11)\n",
    "print(f'max_d:{max_d}')"
   ]
  },
  {
   "cell_type": "code",
   "execution_count": 121,
   "metadata": {},
   "outputs": [
    {
     "name": "stdout",
     "output_type": "stream",
     "text": [
      "dog cute dog 3\n",
      "dog\n",
      "3\n"
     ]
    },
    {
     "data": {
      "text/plain": [
       "{'name': 'dog', 'type': 'cute dog', 'age': 3}"
      ]
     },
     "execution_count": 121,
     "metadata": {},
     "output_type": "execute_result"
    }
   ],
   "source": [
    "# 命名元组 namedtuple\n",
    "# tuple是不可变的列表，不能改变元素 为元素赋值\n",
    "# namedtuple把tuple变成一个简单的容器，可以不必使用索引访问元素，而是像使用字典一样使用namedtuple\n",
    "from collections import namedtuple\n",
    "\n",
    "animal = namedtuple('Animal', 'name, type, age')    # namedtuple有2个必需的参数：元组名称，字段名称\n",
    "pretty = animal(name='dog', type='cute dog', age=3)\n",
    "print(*pretty)\n",
    "print(pretty.name)\n",
    "print(pretty[-1])   # 依然可以使用索引来访问属性\n",
    "# pretty.age = 1  # 毕竟是元组，属性值不可变\n",
    "pretty._asdict()    # 命名元组转为字典"
   ]
  },
  {
   "cell_type": "code",
   "execution_count": 129,
   "metadata": {},
   "outputs": [
    {
     "name": "stdout",
     "output_type": "stream",
     "text": [
      "True Species.cat\n",
      "索引：Species.cat\n",
      "中括号：Species.cat\n",
      "点：Species.cat\n"
     ]
    }
   ],
   "source": [
    "# 枚举\n",
    "# 组织各种东西的方式\n",
    "from enum import Enum\n",
    "\n",
    "class Species(Enum):\n",
    "    cat = 1\n",
    "    dog = 2\n",
    "    horse = 3\n",
    "    owl = 6\n",
    "    dragon = 7\n",
    "    \n",
    "    kitten = 1\n",
    "    puppy = 2\n",
    "\n",
    "Animal = namedtuple(typename='Animal',              # 元组名称\n",
    "                    field_names='name, type, age')  # 字段名称\n",
    "\n",
    "dorgon = Animal(name='dorgon', type=Species.dragon, age=1)\n",
    "cat = Animal(name='cat', type=Species.cat, age=11)\n",
    "kitten = Animal(name='kitten', type=Species.kitten, age=12)\n",
    "\n",
    "print(cat.type == kitten.type, kitten.type)\n",
    "\n",
    "# 访问枚举数据的方式\n",
    "print(f'索引：{Species(1)}\\n'       # 注意“索引”方式，索引是枚举类中定义的数字，且使用的不是中括号[]而是Species(1)\n",
    "      f'中括号：{Species[\"cat\"]}\\n'\n",
    "      f'点：{Species.cat}')"
   ]
  },
  {
   "cell_type": "code",
   "execution_count": 133,
   "metadata": {},
   "outputs": [
    {
     "name": "stdout",
     "output_type": "stream",
     "text": [
      "0 apple\n",
      "1 banana\n",
      "2 grapes\n",
      "3 pear\n",
      "30 apple\n",
      "31 banana\n",
      "32 grapes\n",
      "33 pear\n",
      "[(100, 'apple'), (101, 'banana'), (102, 'grapes'), (103, 'pear')]\n"
     ]
    }
   ],
   "source": [
    "# enumerate 枚举\n",
    "# Python内置函数，自己常用竟然没意识到，这是枚举\n",
    "myLs = ['apple', 'banana', 'grapes', 'pear']\n",
    "for i, v in enumerate(myLs):\n",
    "    print(i, v)\n",
    "\n",
    "# 定义枚举起始数字\n",
    "for i, v in enumerate(myLs, start=30):\n",
    "    print(i, v)\n",
    "\n",
    "# 还可以创建包含索引的元组列表\n",
    "print(list(enumerate(myLs, 100)))"
   ]
  },
  {
   "cell_type": "code",
   "execution_count": 137,
   "metadata": {},
   "outputs": [
    {
     "name": "stdout",
     "output_type": "stream",
     "text": [
      "[('__abs__', <slot wrapper '__abs__' of 'int' objects>), ('__add__', <slot wrapper '__add__' of 'int' objects>), ('__and__', <slot wrapper '__and__' of 'int' objects>), ('__bool__', <slot wrapper '__bool__' of 'int' objects>), ('__ceil__', <method '__ceil__' of 'int' objects>), ('__class__', <class 'type'>), ('__delattr__', <slot wrapper '__delattr__' of 'object' objects>), ('__dir__', <method '__dir__' of 'object' objects>), ('__divmod__', <slot wrapper '__divmod__' of 'int' objects>), ('__doc__', \"int([x]) -> integer\\nint(x, base=10) -> integer\\n\\nConvert a number or string to an integer, or return 0 if no arguments\\nare given.  If x is a number, return x.__int__().  For floating point\\nnumbers, this truncates towards zero.\\n\\nIf x is not a number or if base is given, then x must be a string,\\nbytes, or bytearray instance representing an integer literal in the\\ngiven base.  The literal can be preceded by '+' or '-' and be surrounded\\nby whitespace.  The base defaults to 10.  Valid bases are 0 and 2-36.\\nBase 0 means to interpret the base from the string as an integer literal.\\n>>> int('0b100', base=0)\\n4\"), ('__eq__', <slot wrapper '__eq__' of 'int' objects>), ('__float__', <slot wrapper '__float__' of 'int' objects>), ('__floor__', <method '__floor__' of 'int' objects>), ('__floordiv__', <slot wrapper '__floordiv__' of 'int' objects>), ('__format__', <method '__format__' of 'int' objects>), ('__ge__', <slot wrapper '__ge__' of 'int' objects>), ('__getattribute__', <slot wrapper '__getattribute__' of 'int' objects>), ('__getnewargs__', <method '__getnewargs__' of 'int' objects>), ('__gt__', <slot wrapper '__gt__' of 'int' objects>), ('__hash__', <slot wrapper '__hash__' of 'int' objects>), ('__index__', <slot wrapper '__index__' of 'int' objects>), ('__init__', <slot wrapper '__init__' of 'object' objects>), ('__init_subclass__', <built-in method __init_subclass__ of type object at 0x00007FF8F8829740>), ('__int__', <slot wrapper '__int__' of 'int' objects>), ('__invert__', <slot wrapper '__invert__' of 'int' objects>), ('__le__', <slot wrapper '__le__' of 'int' objects>), ('__lshift__', <slot wrapper '__lshift__' of 'int' objects>), ('__lt__', <slot wrapper '__lt__' of 'int' objects>), ('__mod__', <slot wrapper '__mod__' of 'int' objects>), ('__mul__', <slot wrapper '__mul__' of 'int' objects>), ('__ne__', <slot wrapper '__ne__' of 'int' objects>), ('__neg__', <slot wrapper '__neg__' of 'int' objects>), ('__new__', <built-in method __new__ of type object at 0x00007FF8F8829740>), ('__or__', <slot wrapper '__or__' of 'int' objects>), ('__pos__', <slot wrapper '__pos__' of 'int' objects>), ('__pow__', <slot wrapper '__pow__' of 'int' objects>), ('__radd__', <slot wrapper '__radd__' of 'int' objects>), ('__rand__', <slot wrapper '__rand__' of 'int' objects>), ('__rdivmod__', <slot wrapper '__rdivmod__' of 'int' objects>), ('__reduce__', <method '__reduce__' of 'object' objects>), ('__reduce_ex__', <method '__reduce_ex__' of 'object' objects>), ('__repr__', <slot wrapper '__repr__' of 'int' objects>), ('__rfloordiv__', <slot wrapper '__rfloordiv__' of 'int' objects>), ('__rlshift__', <slot wrapper '__rlshift__' of 'int' objects>), ('__rmod__', <slot wrapper '__rmod__' of 'int' objects>), ('__rmul__', <slot wrapper '__rmul__' of 'int' objects>), ('__ror__', <slot wrapper '__ror__' of 'int' objects>), ('__round__', <method '__round__' of 'int' objects>), ('__rpow__', <slot wrapper '__rpow__' of 'int' objects>), ('__rrshift__', <slot wrapper '__rrshift__' of 'int' objects>), ('__rshift__', <slot wrapper '__rshift__' of 'int' objects>), ('__rsub__', <slot wrapper '__rsub__' of 'int' objects>), ('__rtruediv__', <slot wrapper '__rtruediv__' of 'int' objects>), ('__rxor__', <slot wrapper '__rxor__' of 'int' objects>), ('__setattr__', <slot wrapper '__setattr__' of 'object' objects>), ('__sizeof__', <method '__sizeof__' of 'int' objects>), ('__str__', <slot wrapper '__str__' of 'object' objects>), ('__sub__', <slot wrapper '__sub__' of 'int' objects>), ('__subclasshook__', <built-in method __subclasshook__ of type object at 0x00007FF8F8829740>), ('__truediv__', <slot wrapper '__truediv__' of 'int' objects>), ('__trunc__', <method '__trunc__' of 'int' objects>), ('__xor__', <slot wrapper '__xor__' of 'int' objects>), ('as_integer_ratio', <method 'as_integer_ratio' of 'int' objects>), ('bit_length', <method 'bit_length' of 'int' objects>), ('conjugate', <method 'conjugate' of 'int' objects>), ('denominator', <attribute 'denominator' of 'int' objects>), ('from_bytes', <built-in method from_bytes of type object at 0x00007FF8F8829740>), ('imag', <attribute 'imag' of 'int' objects>), ('numerator', <attribute 'numerator' of 'int' objects>), ('real', <attribute 'real' of 'int' objects>), ('to_bytes', <method 'to_bytes' of 'int' objects>)]\n"
     ]
    }
   ],
   "source": [
    "# 对象自省\n",
    "# 运行行判断对象类型\n",
    "# Python一切皆对象\n",
    "\n",
    "# dir()  返回对象拥有的属性和方法\n",
    "myLs = [1, 2, 3]\n",
    "dir(myLs)\n",
    "\n",
    "# type()  返回一个对象的类型\n",
    "# id()  返回任意不同对象的唯一id"
   ]
  },
  {
   "cell_type": "code",
   "execution_count": 138,
   "metadata": {},
   "outputs": [],
   "source": [
    "# 推导式 comprehensions\n",
    "# Python独有特性，可以从一个数据序列构建另一个新的数据序列\n",
    "\n",
    "# 列表推导式\n",
    "ls = [i for i in range(30) if i % 3 == 0]       # 原来就是这个\n",
    "\n",
    "# 字典推导式\n",
    "# 集合推导式"
   ]
  },
  {
   "cell_type": "code",
   "execution_count": 144,
   "metadata": {},
   "outputs": [
    {
     "name": "stdout",
     "output_type": "stream",
     "text": [
      "An error occurred.\n",
      "An error occurred. [Errno 2] No such file or directory: 'test.txt'\n",
      "error, no file [Errno 2] No such file or directory: 'test.txt'\n",
      "I do not know what error, [Errno 2] No such file or directory: 'file'\n",
      "an error occurred, it is [Errno 2] No such file or directory: 'file.txt'\n",
      "whether or not an exception occurred, this will be printed\n"
     ]
    }
   ],
   "source": [
    "# 异常\n",
    "try:\n",
    "    file = open('test.txt', 'rb')\n",
    "except:\n",
    "    print(f'An error occurred.')\n",
    "\n",
    "# 处理多个异常\n",
    "try:\n",
    "    file = open('test.txt', 'r')\n",
    "except (IOError, EOFError) as e:\n",
    "    print('An error occurred.', e)\n",
    "\n",
    "try:\n",
    "    file = open('test.txt', 'r')\n",
    "except EOFError as e:\n",
    "    print(f'error. {e}')\n",
    "except FileNotFoundError as e:\n",
    "    print(f'error, no file {e}')\n",
    "except IOError as e:\n",
    "    print(f'error. {e}')\n",
    "\n",
    "# 当不知道会抛出什么异常\n",
    "try:\n",
    "    file = open(f'file', 'r')\n",
    "except Exception as e:\n",
    "    print(f'I do not know what error, {e}')\n",
    "\n",
    "# finally \n",
    "# 不管异常是否触发，finally都将被执行\n",
    "try:\n",
    "    file = open('file.txt', 'r')\n",
    "except Exception as e:\n",
    "    print(f'an error occurred, it is {e}')\n",
    "finally:\n",
    "    print(f'whether or not an exception occurred, this will be printed')"
   ]
  },
  {
   "cell_type": "code",
   "execution_count": 146,
   "metadata": {},
   "outputs": [
    {
     "name": "stdout",
     "output_type": "stream",
     "text": [
      "an error occurred! [Errno 2] No such file or directory: 'abc.txt'\n",
      "I will print whether there is an exception.\n"
     ]
    }
   ],
   "source": [
    "# try/else语句\n",
    "try:\n",
    "    # file = open(f'abc.txt', 'r')\n",
    "    print(f'I am sure there is no exception going to occur.')\n",
    "except Exception as e:\n",
    "    print(f'an error occurred! {e}')\n",
    "else:\n",
    "    print(f'I only print when there is no exception occurred.')\n",
    "finally:\n",
    "    print(f'I will print whether there is an exception.')"
   ]
  },
  {
   "cell_type": "code",
   "execution_count": 168,
   "metadata": {},
   "outputs": [
    {
     "name": "stdout",
     "output_type": "stream",
     "text": [
      "3\n",
      "[(13, -3), (4, 1), (1, 2), (9, 10)]\n",
      "[16, 12, 14, 15, 16, 14, 12, 2, 17, 10]\n",
      "[18, 15, 29, 5, 2, 25, 18, 24, 18, 27]\n",
      "[(2, 24), (10, 27), (12, 15), (12, 18), (14, 25), (14, 29), (15, 5), (16, 2), (16, 18), (17, 18)]\n",
      "[2, 10, 12, 12, 14, 14, 15, 16, 16, 17]\n",
      "[24, 27, 15, 18, 25, 29, 5, 2, 18, 18]\n"
     ]
    }
   ],
   "source": [
    "# lambda表达式\n",
    "# 一行函数，其他语言称为匿名函数。如果你不想多次使用一个函数。\n",
    "# lambda 参数: 操作(参数)\n",
    "add = lambda x, y: x + y\n",
    "print(add(1, 2))\n",
    "\n",
    "a = [(1, 2), (4, 1), (9, 10), (13, -3)]\n",
    "a.sort(key=lambda x: x[1])\n",
    "print(a)\n",
    "\n",
    "# 列表并行排序  没懂\n",
    "from random import randint\n",
    "ls1, ls2 = [randint(1, 20) for i in range(10)], [randint(1, 30) for i in range(10)]\n",
    "print(f'{ls1}\\n{ls2}')\n",
    "data = zip(ls1, ls2)\n",
    "data = sorted(data)     # 根据第一个数排序\n",
    "print(data)\n",
    "list1, list2 = map(lambda t: list(t), zip(*data))\n",
    "print(f'{list1}\\n{list2}')"
   ]
  },
  {
   "cell_type": "code",
   "execution_count": 169,
   "metadata": {},
   "outputs": [],
   "source": [
    "# 一行式\n",
    "# 在终端中 python -m http.server，共享当前文件夹文件  要关闭防火墙，局域网内机器才能访问"
   ]
  },
  {
   "cell_type": "code",
   "execution_count": 172,
   "metadata": {},
   "outputs": [
    {
     "name": "stdout",
     "output_type": "stream",
     "text": [
      "2 is a prime number.\n",
      "3 is a prime number.\n",
      "4 equals 2 * 2\n",
      "5 is a prime number.\n",
      "6 equals 2 * 3\n",
      "7 is a prime number.\n",
      "8 equals 2 * 4\n",
      "9 equals 3 * 3\n"
     ]
    }
   ],
   "source": [
    "# for else结构\n",
    "# for循环的else从句会在循环正常结束时执行，就是遍历结束中间没有break等\n",
    "\n",
    "# 找到2~10之间所有数字的因子\n",
    "for n in range(2, 10):\n",
    "    for x in range(2, n):\n",
    "        if n % x == 0:\n",
    "            print(f'{n} equals {x} * {n // x}')\n",
    "            break\n",
    "    else:       # for只要是正常结束，就是质数\n",
    "        print(f'{n} is a prime number.')"
   ]
  },
  {
   "cell_type": "code",
   "execution_count": 175,
   "metadata": {},
   "outputs": [],
   "source": [
    "# open\n",
    "# 打开模式 r:读取文件\n",
    "#         r+:读取并写入文件\n",
    "#         w:覆盖写入文件\n",
    "#         a:在文件末尾附加内容\n",
    "# 一般来说，如果文件是人写的，就可能是文本模式。\n",
    "# jpg不是人写的，也不是人直接可读的，因此应该使用二进制模式打开，在打开模式后面加 b--得到字节串，没有b得到的时字符串\n",
    "\n",
    "# 如果以文本模式(不加b)，还必须知道使用哪种编码，因为对计算机来说，所有文件都是字节，而不是字符。\n",
    "# encoding参数指定编码格式，如果不显示传入编码格式，会使用默认编码格式，有可能引发未知错误。\n",
    "# utf-8是一个非常好的编码，当写入文件时可以选择这个编码，或必须的编码格式\n",
    "\n",
    "# with语句打开文件，无论是否触发异常，文件句柄都会被正常关闭\n",
    "\n",
    "# 基于以上知识，我们写个程序，判断文件是否jpg\n",
    "import io\n",
    "\n",
    "with open('demo.jpg', 'rb') as inf:     # 打开模式 rb，因为图片不是人可以直接读的，以rb打开得到 字 节 串\n",
    "    jpgdata = inf.read()\n",
    "\n",
    "# print(jpgdata)      # b'\\xff\\xd8\\xff\\xe0\\x00\\'\n",
    "if jpgdata.startswith(b'\\xff\\xd8'):\n",
    "    text = u'This is a jpg file. (%d bytes long)\\n'\n",
    "else:\n",
    "    text = u'This is a random file. (%d bytes long)\\n'\n",
    "\n",
    "with io.open('summary.txt', 'w', encoding='utf-8') as outf:\n",
    "    outf.write(text % len(jpgdata))"
   ]
  },
  {
   "cell_type": "code",
   "execution_count": 176,
   "metadata": {},
   "outputs": [
    {
     "data": {
      "text/plain": [
       "'\\n__future__模块，帮你在Python2中导入Python3的功能，或Python2.5引入Python2.6的功能\\n如Python2中导入Python3的print\\nfrom __future__ import print_function\\nprint() 就能正常使用了\\n\\n模块重命名\\n其实就是import numpy as np的as\\ntry:\\n    import urllib.request as urllib_request     # for Python 3\\nexcept ImportError:\\n    import urllib2 as urllib_request    # for Python 2\\n\\n强制放弃Python2内置功能\\n因为在Python3中已经丢弃了，为兼容二者，在Python2中也禁止使用\\nfrom future.builtins.disabled import *      \\n只要使用就回报错 NameError\\n'"
      ]
     },
     "execution_count": 176,
     "metadata": {},
     "output_type": "execute_result"
    }
   ],
   "source": [
    "# 兼容Python2+3\n",
    "\"\"\"\n",
    "__future__模块，帮你在Python2中导入Python3的功能，或Python2.5引入Python2.6的功能\n",
    "如Python2中导入Python3的print\n",
    "from __future__ import print_function\n",
    "print() 就能正常使用了\n",
    "\n",
    "模块重命名\n",
    "其实就是import numpy as np的as\n",
    "try:\n",
    "    import urllib.request as urllib_request     # for Python 3\n",
    "except ImportError:\n",
    "    import urllib2 as urllib_request    # for Python 2\n",
    "\n",
    "强制放弃Python2内置功能\n",
    "因为在Python3中已经丢弃了，为兼容二者，在Python2中也禁止使用\n",
    "from future.builtins.disabled import *      \n",
    "只要使用就回报错 NameError\n",
    "\"\"\""
   ]
  },
  {
   "cell_type": "code",
   "execution_count": 186,
   "metadata": {},
   "outputs": [
    {
     "name": "stdout",
     "output_type": "stream",
     "text": [
      "0 1 1 2 3 5 searcing for coroutine\n",
      "coroutine, what is this?\n"
     ]
    }
   ],
   "source": [
    "# 协程\n",
    "\"\"\"\n",
    "Python中协程和生成器很相似，但又不同\n",
    "生成器是数据的生产者\n",
    "协程则是数据的消费者\n",
    "\"\"\"\n",
    "# 复习生成器 斐波那契数列\n",
    "def func(n):\n",
    "    a, b = 0, 1\n",
    "    for _ in range(n):\n",
    "        yield a     # 这里，其实便获得了一个协程，协程会消费掉发给它的值\n",
    "        a, b = b, a + b\n",
    "\n",
    "for n in func(6):\n",
    "    print(n, end=' ')\n",
    "\n",
    "# 协程demo\n",
    "# yiele什么都没返回，我们已经把它变成了一个协程。它将不包含任何初始值，相反要从外部传值给它，通过send()方法向它传值\n",
    "def grep(pattern):\n",
    "    print(f'searcing for {pattern}')\n",
    "    while True:\n",
    "        line = (yield)\n",
    "        if pattern in line:\n",
    "            print(line)\n",
    "\n",
    "search = grep('coroutine')\n",
    "next(search)        # next()为启动一个协程；协程中生成器不是立刻执行，而是通过next()方法来响应send()方法\n",
    "search.send('I love you!')\n",
    "search.send('coroutine, what is this?')\n",
    "search.close()      # 关闭协程\n",
    "# search.send('coroutine, what is this?')       # 协程已关闭，报错"
   ]
  },
  {
   "cell_type": "code",
   "execution_count": 9,
   "metadata": {},
   "outputs": [
    {
     "name": "stdout",
     "output_type": "stream",
     "text": [
      "102334155\n",
      "计算40个斐波那契数列时长: 53.8173 s\n"
     ]
    }
   ],
   "source": [
    "# 函数缓存\n",
    "# 将一个函数对于给定参数的返回值缓存起来\n",
    "\n",
    "from time import time\n",
    "# 不使用函数缓存\n",
    "def fib(n):\n",
    "    if n < 2:\n",
    "        return n\n",
    "    return fib(n - 1) + fib(n - 2)\n",
    "\n",
    "startTime = time()\n",
    "n = 40\n",
    "print(fib(n))\n",
    "endTime = time()\n",
    "print(f'计算{n}个斐波那契数列时长: {endTime - startTime:.4f} s')"
   ]
  },
  {
   "cell_type": "code",
   "execution_count": 12,
   "metadata": {},
   "outputs": [
    {
     "name": "stdout",
     "output_type": "stream",
     "text": [
      "102334155\n",
      "计算40个斐波那契数列时长: 0.0010 s\n"
     ]
    }
   ],
   "source": [
    "# 使用函数缓存\n",
    "# 同样的代码，太快啦！\n",
    "from functools import lru_cache\n",
    "\n",
    "@lru_cache(maxsize=32)\n",
    "def fib(n):\n",
    "    if n < 2:\n",
    "        return n\n",
    "    return fib(n - 1) + fib(n - 2)\n",
    "\n",
    "startTime = time()\n",
    "n = 40\n",
    "print(fib(n))\n",
    "endTime = time()\n",
    "print(f'计算{n}个斐波那契数列时长: {endTime - startTime:.4f} s')"
   ]
  },
  {
   "cell_type": "code",
   "execution_count": 15,
   "metadata": {},
   "outputs": [
    {
     "data": {
      "text/plain": [
       "102334155"
      ]
     },
     "execution_count": 15,
     "metadata": {},
     "output_type": "execute_result"
    }
   ],
   "source": [
    "# Python2需要自己写函数缓存，那自己写一个试试\n",
    "from functools import wraps\n",
    "\n",
    "def memorize(func):\n",
    "    memo = {}\n",
    "    @wraps(func)\n",
    "    def wrapper(*args, **kwargs):\n",
    "        if args in memo:\n",
    "            return memo[args]\n",
    "        else:\n",
    "            res = func(*args)       # 细节 参数\n",
    "            memo[args] = res\n",
    "            return res\n",
    "    return wrapper\n",
    "\n",
    "@memorize       # 加上修饰器，很快呀！\n",
    "def fib(n):\n",
    "    if n < 2: return n\n",
    "    return fib(n - 1) + fib(n - 2)\n",
    "\n",
    "fib(40)"
   ]
  },
  {
   "cell_type": "code",
   "execution_count": null,
   "metadata": {},
   "outputs": [],
   "source": [
    "# 上下文管理器 Context managers\n",
    "# 最典型的用例是with打开文件，即时with下代码发生异常退出也能正常关闭文件\n",
    "# 如使用两个需要结对执行的相关操作，而且他们之间还要放一段代码，上下文管理器就是专门让你做这种事的：如\n",
    "# with open (f'xxx.txt', 'r') as f:\n",
    "#     f.write(f'')\n",
    "      # ...\n",
    "# 即使出错也能正常关闭文件\n",
    "# 通过使用with，许多样本代码被消掉了，这是with的优势\n",
    "# 上下文管理器一个常见的用例是 资源加锁和解锁、关闭已打开的文件"
   ]
  },
  {
   "cell_type": "code",
   "execution_count": 16,
   "metadata": {},
   "outputs": [],
   "source": [
    "# 基于类实现上下文管理器\n",
    "class File:\n",
    "    \"\"\" 上下文管理器的类，必须定义__enter__()和__exit__() \"\"\"\n",
    "    def __init__(self, file_name, method) -> None:\n",
    "        self.file_obj = open(file_name, method)\n",
    "    \n",
    "    def __enter__(self):\n",
    "        return self.file_obj\n",
    "    \n",
    "    def __exit__(self, type, value, traceback):\n",
    "        \"\"\" type、value、traceback三个参数对任何上下文管理器类的__exit__()都是必须的 \"\"\"\n",
    "        self.file_obj.close()\n",
    "\n",
    "with File(f'File.txt', 'w') as f:\n",
    "    f.write(f'study!')"
   ]
  },
  {
   "cell_type": "code",
   "execution_count": 19,
   "metadata": {},
   "outputs": [
    {
     "name": "stdout",
     "output_type": "stream",
     "text": [
      "Exception has been handled by sc!\n"
     ]
    }
   ],
   "source": [
    "# 上下文管理器中处理异常\n",
    "# 异常发生时，异常信息参数传给__exit__()的参数\n",
    "class File:\n",
    "    def __init__(self, file_name, method) -> None:\n",
    "        self.file_obj = open(file_name, method)\n",
    "    \n",
    "    def __enter__(self):\n",
    "        return self.file_obj\n",
    "    \n",
    "    def __exit__(self, type, value, traceback):\n",
    "        # 尝试处理异常\n",
    "        print(f'Exception has been handled by sc!')\n",
    "        self.file_obj.close()\n",
    "        return True     # 只要__exit__()返回True，就代表异常被处理，否则with会抛出异常\n",
    "\n",
    "with File(f'File.txt', 'w') as f:\n",
    "    f.undefined_func()"
   ]
  },
  {
   "cell_type": "code",
   "execution_count": 20,
   "metadata": {},
   "outputs": [],
   "source": [
    "# 基于生成器实现上下文管理器\n",
    "from contextlib import contextmanager\n",
    "\n",
    "@contextmanager\n",
    "def open_file(file_path):\n",
    "    f = open(file_path, 'w')\n",
    "    yield f\n",
    "    f.close()\n",
    "\n",
    "# 直接使用上下文管理器\n",
    "with open_file(f'File.txt') as f:\n",
    "    f.write('Hello, Mr.C!')"
   ]
  },
  {
   "cell_type": "code",
   "execution_count": null,
   "metadata": {},
   "outputs": [],
   "source": []
  }
 ],
 "metadata": {
  "kernelspec": {
   "display_name": "pt17",
   "language": "python",
   "name": "python3"
  },
  "language_info": {
   "codemirror_mode": {
    "name": "ipython",
    "version": 3
   },
   "file_extension": ".py",
   "mimetype": "text/x-python",
   "name": "python",
   "nbconvert_exporter": "python",
   "pygments_lexer": "ipython3",
   "version": "3.8.16"
  },
  "orig_nbformat": 4
 },
 "nbformat": 4,
 "nbformat_minor": 2
}
