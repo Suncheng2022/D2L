{
 "cells": [
  {
   "attachments": {},
   "cell_type": "markdown",
   "metadata": {},
   "source": [
    "Dell conda:pt17"
   ]
  },
  {
   "cell_type": "code",
   "execution_count": 4,
   "metadata": {},
   "outputs": [
    {
     "name": "stdout",
     "output_type": "stream",
     "text": [
      "first normal arg:suncheng\n",
      "arg through *argv:you\n",
      "arg through *argv:must\n",
      "arg through *argv:study\n",
      "arg through *argv:python\n",
      "arg through *argv:quickly!\n"
     ]
    }
   ],
   "source": [
    "# *args的用法：用于传递不定数量的参数\n",
    "def test_var_args(f_arg, *argv):    # *argv名字可以自定义\n",
    "    print(f'first normal arg:{f_arg}')\n",
    "    for arg in argv:\n",
    "        print(f'arg through *argv:{arg}')\n",
    "\n",
    "test_var_args('suncheng', 'you', 'must', 'study', 'python', 'quickly!')"
   ]
  },
  {
   "cell_type": "code",
   "execution_count": 5,
   "metadata": {},
   "outputs": [
    {
     "name": "stdout",
     "output_type": "stream",
     "text": [
      "name=sc\n",
      "age=20\n",
      "sex=male\n"
     ]
    }
   ],
   "source": [
    "# **kwargs的用法：传递不定长度的键值对\n",
    "def greet_me(user, **kwargs):\n",
    "    for k, v in kwargs.items():\n",
    "        print(f'{k}={v}')\n",
    "\n",
    "greet_me('suncheng', name='sc', age='20', sex='male')"
   ]
  },
  {
   "cell_type": "code",
   "execution_count": 16,
   "metadata": {},
   "outputs": [
    {
     "name": "stdout",
     "output_type": "stream",
     "text": [
      "arg1:1 arg2:3 arg3:sc\n",
      "arg1:1 arg2:3 arg3:sc\n",
      "Hello, suncheng, here are some infomation about yourself.\n",
      "family member_1:Libai\n",
      "family member_1:Dufu\n",
      "family member_1:Xinqiji\n",
      "your name is suncheng.\n",
      "your age is 20.\n",
      "your sex is male.\n"
     ]
    }
   ],
   "source": [
    "# 使用*args和**kwargs调用函数\n",
    "def test_args_kwargs(arg1, arg2, arg3):\n",
    "    print(f'arg1:{arg1} '\n",
    "          f'arg2:{arg2} '\n",
    "          f'arg3:{arg3}')\n",
    "\n",
    "# 使用*args\n",
    "args = [1, 3, 'sc']\n",
    "test_args_kwargs(*args)     # 忘记加*，报错\n",
    "# 使用**kwargs\n",
    "kwargs = {'arg1':1, 'arg3':'sc', 'arg2':3}      # 注意key与形参顺序，且key必须与形参名称相同\n",
    "test_args_kwargs(**kwargs)\n",
    "\n",
    "# 在函数参数中混合使用 形参、*args、**kwargs时的调用顺序：\n",
    "# 形参、*args、**kwargs\n",
    "def myfun(user, *people, **info):\n",
    "    print(f'Hello, {user}, here are some infomation about yourself.')\n",
    "    for person in people:\n",
    "        print(f'family member_1:{person}')\n",
    "    for k, v in info.items():\n",
    "        print(f'your {k} is {v}.')\n",
    "\n",
    "user = 'suncheng'\n",
    "people = ['Libai', 'Dufu', 'Xinqiji']\n",
    "info = {'name':'suncheng', 'age':20, 'sex':'male'}\n",
    "myfun(user, *people, **info)        # 调用时务必加 * ！！！\n",
    "# 总结：*args传参，函数中可直接当做列表用、**kwargs传参，函数中可直接当做字典用"
   ]
  },
  {
   "cell_type": "code",
   "execution_count": 32,
   "metadata": {},
   "outputs": [
    {
     "name": "stdout",
     "output_type": "stream",
     "text": [
      "0\n",
      "1\n",
      "2\n",
      "3\n",
      "4\n",
      "5\n",
      "6\n",
      "7\n",
      "8\n",
      "9\n",
      "1 1 2 3 5 8 13 21 34 55 89 144 233 377 610 987 1597 2584 4181 6765 10946 17711 28657 46368 75025 121393 196418 317811 514229 832040 1346269 2178309 3524578 5702887 9227465 14930352 24157817 39088169 63245986 102334155 165580141 267914296 433494437 701408733 1134903170 1836311903 2971215073 4807526976 7778742049 12586269025 20365011074 32951280099 53316291173 86267571272 139583862445 225851433717 365435296162 591286729879 956722026041 1548008755920 2504730781961 4052739537881 6557470319842 10610209857723 17167680177565 27777890035288 44945570212853 72723460248141 117669030460994 190392490709135 308061521170129 498454011879264 806515533049393 1304969544928657 2111485077978050 3416454622906707 5527939700884757 8944394323791464 14472334024676221 23416728348467685 37889062373143906 61305790721611591 99194853094755497 160500643816367088 259695496911122585 420196140727489673 679891637638612258 1100087778366101931 1779979416004714189 2880067194370816120 4660046610375530309 7540113804746346429 12200160415121876738 19740274219868223167 31940434634990099905 51680708854858323072 83621143489848422977 135301852344706746049 218922995834555169026 354224848179261915075 "
     ]
    }
   ],
   "source": [
    "# 1.可迭代对象 \n",
    "# 2.迭代器 \n",
    "# 3.迭代\n",
    "# 综上，可理解 生成器\n",
    "\n",
    "# 1.可迭代对象，能提供迭代器的任意对象\n",
    "# 只要定义了: __iter__() 可返回迭代器的方法\n",
    "#      或    __getitem__() 支持下标索引\n",
    "\n",
    "# 2.迭代器 \n",
    "# 只要定义了__next__()方法\n",
    "\n",
    "# 3.迭代\n",
    "# 就是我们耳熟能详的 遍历，这就是迭代\n",
    "\n",
    "# 【生成器】\n",
    "# 生成器也是一种迭代器，但只能迭代/遍历一次。\n",
    "# 因为它并没有把所有值保存在内存，而是运行时 生成 值。可以通过遍历使用，或传递给任意可进行迭代的函数和结构。\n",
    "# 生成器并不是 返回 一个值，而是 yield生出 一个值。\n",
    "# 因为并不是一下返回全部数据，所以节省内存\n",
    "\n",
    "# demo1\n",
    "def generator_fun():\n",
    "    for i in range(10):\n",
    "        yield i\n",
    "\n",
    "gen = generator_fun()     # 会返回生成器 <generator object generator_fun at 0x000001C23A479430>\n",
    "for item in generator_fun():    # 也可以 for item in gen: pass ，也是正确的\n",
    "    print(item)\n",
    "\n",
    "# yield 讲的很好 https://blog.csdn.net/mieleizhi0522/article/details/82142856\n",
    "# demo2\n",
    "def gen_fibon(n):\n",
    "    a, b = 1, 1     # 人家这也对，只是没有0罢了\n",
    "    for _ in range(n):\n",
    "        yield a\n",
    "        a, b = b, a + b\n",
    "\n",
    "for x in gen_fibon(100):\n",
    "    print(x, end=' ')\n",
    "\n",
    "# 斐波那契数列\n",
    "# def ori_fibon(n):\n",
    "#     a, b = 0, 1\n",
    "#     for _ in range(n):\n",
    "#         a, b = b, a + b\n",
    "#     return a\n",
    "\n",
    "# ori_fibon(4)\n",
    "\n",
    "# 自己改为生成器\n",
    "# def gen_fibon(n):\n",
    "#     a, b = 0, 1\n",
    "#     for _ in range(n):\n",
    "#         yield a\n",
    "#         a, b = b, a + b\n",
    "\n",
    "# for x in fibon(100):\n",
    "#     print(x)"
   ]
  },
  {
   "cell_type": "code",
   "execution_count": 33,
   "metadata": {},
   "outputs": [
    {
     "name": "stdout",
     "output_type": "stream",
     "text": [
      "0\n",
      "1\n",
      "2\n"
     ]
    },
    {
     "ename": "StopIteration",
     "evalue": "",
     "output_type": "error",
     "traceback": [
      "\u001b[1;31m---------------------------------------------------------------------------\u001b[0m",
      "\u001b[1;31mStopIteration\u001b[0m                             Traceback (most recent call last)",
      "Cell \u001b[1;32mIn[33], line 10\u001b[0m\n\u001b[0;32m      8\u001b[0m \u001b[39mprint\u001b[39m(\u001b[39mnext\u001b[39m(gen))\n\u001b[0;32m      9\u001b[0m \u001b[39mprint\u001b[39m(\u001b[39mnext\u001b[39m(gen))\n\u001b[1;32m---> 10\u001b[0m \u001b[39mprint\u001b[39m(\u001b[39mnext\u001b[39;49m(gen))\n",
      "\u001b[1;31mStopIteration\u001b[0m: "
     ]
    }
   ],
   "source": [
    "# 学习使用生成器 next\n",
    "def generator_fun():\n",
    "    for i in range(3):\n",
    "        yield i     # 只要有yield就不是普通函数，next会在yield结束行继续执行函数\n",
    "\n",
    "gen = generator_fun()\n",
    "print(next(gen))\n",
    "print(next(gen))\n",
    "print(next(gen))\n",
    "print(next(gen))    # 报错 StopIteration ，已经yield完了\n",
    "\n",
    "# 但使用for就不会报错，因为for会自动处理StopIteration"
   ]
  },
  {
   "cell_type": "code",
   "execution_count": 37,
   "metadata": {},
   "outputs": [
    {
     "name": "stdout",
     "output_type": "stream",
     "text": [
      "s\n",
      "u\n"
     ]
    }
   ],
   "source": [
    "# Python有些内置类型也支持迭代\n",
    "# 字符串虽然支持迭代，但不是迭代器\n",
    "# next('suncheng')    # 报错提示'str' object is not an iterator str不是迭代器\n",
    "\n",
    "# iter()将可迭代对象包装成 迭代器\n",
    "my_iter = iter(\"suncheng\")\n",
    "print(next(my_iter))\n",
    "print(next(my_iter))"
   ]
  },
  {
   "cell_type": "code",
   "execution_count": 42,
   "metadata": {},
   "outputs": [
    {
     "name": "stdout",
     "output_type": "stream",
     "text": [
      "[0, 1, 4, 9, 16]\n",
      "0 [0, 0]\n",
      "1 [1, 2]\n",
      "2 [4, 4]\n",
      "3 [9, 6]\n",
      "4 [16, 8]\n"
     ]
    }
   ],
   "source": [
    "# map 映射，不是dict\n",
    "# map将函数映射到输入列表中的元素上 map(fun, [item1, item2, ...])\n",
    "# 应用场景，不同元素需经历同一函数处理，并收集输出\n",
    "items = list(range(5))\n",
    "squared = map(lambda x: x ** 2, items)      # 返回迭代器 需要用list()转换一下\n",
    "print(list(squared))\n",
    "\n",
    "# 甚至可以接受函数的列表\n",
    "def fun1(x):\n",
    "    return x ** 2\n",
    "\n",
    "def fun2(x):\n",
    "    return x + x\n",
    "\n",
    "for i in items:\n",
    "    print(i, list(map(lambda x: x(i), [fun1, fun2])))"
   ]
  },
  {
   "cell_type": "code",
   "execution_count": 44,
   "metadata": {},
   "outputs": [
    {
     "name": "stdout",
     "output_type": "stream",
     "text": [
      "[-5, -4, -3, -2, -1]\n"
     ]
    }
   ],
   "source": [
    "# filter() 过滤元素\n",
    "# 函数映射到元素的结果是True则保留元素\n",
    "numRange = range(-5, 5)\n",
    "less_than_zero = filter(lambda x: x < 0, numRange)\n",
    "print(list(less_than_zero))"
   ]
  },
  {
   "cell_type": "code",
   "execution_count": 46,
   "metadata": {},
   "outputs": [
    {
     "name": "stdout",
     "output_type": "stream",
     "text": [
      "24\n"
     ]
    }
   ],
   "source": [
    "# reduce \n",
    "# reduce会将前2个元素传给函数，计算结果和第3个元素又传给函数、计算结果和第4个元素又传给函数...\n",
    "from functools import reduce\n",
    "product = reduce(lambda x, y: x * y, [1, 2, 3, 4])      # 计算累乘\n",
    "print(product)"
   ]
  },
  {
   "cell_type": "code",
   "execution_count": 47,
   "metadata": {},
   "outputs": [
    {
     "name": "stdout",
     "output_type": "stream",
     "text": [
      "交集:{'libai'}\n",
      "差集:{'suncheng', 'dufo', 'dufu'}\n"
     ]
    }
   ],
   "source": [
    "# 集合set  与list行为类似，区别在于set不包含重复值\n",
    "# 交集、并集\n",
    "valid = set(['suncheng', 'dufu', 'dufo', 'libai'])\n",
    "invalid = set(['lianxiang', 'xiaomi', 'apple', 'libai'])\n",
    "print(f'交集:{valid.intersection(invalid)}\\n'\n",
    "      f'差集:{valid.difference(invalid)}')"
   ]
  },
  {
   "cell_type": "code",
   "execution_count": 60,
   "metadata": {},
   "outputs": [
    {
     "name": "stdout",
     "output_type": "stream",
     "text": [
      "No.1 Hi, Python\n",
      "No.2 Hi, DeepLearning\n",
      "No.4 Hi, suncheng\n",
      "Now you are inside the hi() fun.\n",
      "Now you are in the greet() fun.\n",
      "Now you are in the welcome() fun.\n",
      "Now you are back in the hi() fun.\n",
      "Now you are inside the hi() fun.\n",
      "<function hi.<locals>.greet at 0x000001C23A481A60>\n",
      "Now you are in the greet() fun.\n",
      "I am doing something boring work before executing hi().\n",
      "hi, cheng sir!\n"
     ]
    }
   ],
   "source": [
    "# 【装饰器_预备知识】Python最难掌握的概念之一\n",
    "# 功能：修改其他函数功能的函数，有助于让代码更简短\n",
    "# 下面慢慢来理解\n",
    "\n",
    "# Python的函数\n",
    "def hi(name='suncheng'):\n",
    "    return f'Hi, {name}'\n",
    "\n",
    "print('No.1', hi('Python'))\n",
    "\n",
    "greet = hi\n",
    "print('No.2', greet('DeepLearning'))\n",
    "\n",
    "del hi  # 删掉hi函数\n",
    "# print('No.3', hi())     # name 'hi' is not defined\n",
    "\n",
    "print('No.4', greet())    # hi被删掉了，但greet()仍能调用\n",
    "\n",
    "# 在函数中定义函数\n",
    "def hi(name='suncheng'):\n",
    "    print(f'Now you are inside the hi() fun.')\n",
    "\n",
    "    def greet():\n",
    "        return 'Now you are in the greet() fun.'\n",
    "    \n",
    "    def welcome():\n",
    "        return 'Now you are in the welcome() fun.'\n",
    "    \n",
    "    print(greet())\n",
    "    print(welcome())\n",
    "    print(f'Now you are back in the hi() fun.')\n",
    "\n",
    "hi()\n",
    "\n",
    "# 从函数中返回函数\n",
    "def hi(name='suncheng'):\n",
    "    print(f'Now you are inside the hi() fun.')\n",
    "\n",
    "    def greet():\n",
    "        return 'Now you are in the greet() fun.'\n",
    "    \n",
    "    def welcome():\n",
    "        return 'Now you are in the welcome() fun.'\n",
    "    \n",
    "    return greet if name == 'suncheng' else welcome     # 返回函数\n",
    "\n",
    "a = hi()    # 返回没有调用的函数时，就可以传递，比如赋值给其他变量\n",
    "print(a)    # 返回值是 function，但没调用\n",
    "print(a())    # 返回值是 function，调用\n",
    "\n",
    "# 将函数作为参数传递给另一个函数\n",
    "def hi():\n",
    "    return 'hi, cheng sir!'\n",
    "\n",
    "def doSomethingBeforeHi(func):\n",
    "    print(f'I am doing something boring work before executing hi().')\n",
    "    print(func())       # 执行形参，因为形参数会传递函数过来\n",
    "\n",
    "doSomethingBeforeHi(hi)"
   ]
  },
  {
   "cell_type": "code",
   "execution_count": 62,
   "metadata": {},
   "outputs": [
    {
     "name": "stdout",
     "output_type": "stream",
     "text": [
      "I am the function which needs some decoration to remove my fou smell!\n",
      "I am doing some boring work before executing a_fun()\n",
      "I am the function which needs some decoration to remove my fou smell!\n",
      "I am doing some boring work after executing a_fun()\n"
     ]
    }
   ],
   "source": [
    "# 【装饰器】Python最难知识点之一！\n",
    "# 你的第一个装饰器，没有使用@符号\n",
    "def a_new_decorator(a_func):\n",
    "    def wrapTheFunction():\n",
    "        print(f'I am doing some boring work before executing a_fun()')\n",
    "        a_func()\n",
    "        print(f'I am doing some boring work after executing a_fun()')\n",
    "    return wrapTheFunction\n",
    "\n",
    "def a_funcion_requiring_decoration():\n",
    "    print(f'I am the function which needs some decoration to remove my fou smell!')\n",
    "\n",
    "# 直接调用a_funcion_requiring_decoration\n",
    "a_funcion_requiring_decoration()\n",
    "\n",
    "# a_funcion_requiring_decoration是上面定义的函数，现在被另一个函数的返回值赋值了\n",
    "a_funcion_requiring_decoration = a_new_decorator(a_funcion_requiring_decoration)\n",
    "# a_funcion_requiring_decoration的功能却变了，就是被wrapTheFunction给包装了一下，即被修饰了\n",
    "a_funcion_requiring_decoration()"
   ]
  },
  {
   "cell_type": "code",
   "execution_count": 66,
   "metadata": {},
   "outputs": [
    {
     "name": "stdout",
     "output_type": "stream",
     "text": [
      "I am doing some boring work before executing a_fun()\n",
      "I am the function which needs some decoration to remove my fou smell!\n",
      "I am doing some boring work after executing a_fun()\n"
     ]
    },
    {
     "data": {
      "text/plain": [
       "'wrapTheFunction'"
      ]
     },
     "execution_count": 66,
     "metadata": {},
     "output_type": "execute_result"
    }
   ],
   "source": [
    "# 使用@符号，生成被修饰的函数的简短方式\n",
    "@a_new_decorator\n",
    "def a_funcion_requiring_decoration_2():\n",
    "    \"\"\" Hey, decorate me! \"\"\"\n",
    "    print(f'I am the function which needs some decoration to remove my fou smell!')\n",
    "\n",
    "a_funcion_requiring_decoration_2()  # 被a_new_decorator修饰的函数\n",
    "\n",
    "# 二者输出均为 wrapTheFunction\n",
    "a_funcion_requiring_decoration.__name__\n",
    "a_funcion_requiring_decoration_2.__name__"
   ]
  },
  {
   "cell_type": "code",
   "execution_count": 67,
   "metadata": {},
   "outputs": [
    {
     "name": "stdout",
     "output_type": "stream",
     "text": [
      "I am doing some boring work before executing a_fun()\n",
      "I am the function which needs some decoration to remove my fou smell!\n",
      "I am doing some boring work after executing a_fun()\n",
      "a_funcion_requiring_decoration_2\n"
     ]
    }
   ],
   "source": [
    "# 使用functools.wraps解决__name__问题\n",
    "# @wraps(·)接受一个函数进行修饰，提供 复制函数名称、注释文档、参数列表等功能，让我们可以在修饰器里面访问修饰之前函数的属性。\n",
    "from functools import wraps\n",
    "\n",
    "def a_new_decorator(a_func):\n",
    "    @wraps(a_func)      # 解决__name__问题\n",
    "    def wrapTheFunction():\n",
    "        print(f'I am doing some boring work before executing a_fun()')\n",
    "        a_func()\n",
    "        print(f'I am doing some boring work after executing a_fun()')\n",
    "    return wrapTheFunction\n",
    "\n",
    "@a_new_decorator\n",
    "def a_funcion_requiring_decoration_2():\n",
    "    \"\"\" Hey, decorate me! \"\"\"\n",
    "    print(f'I am the function which needs some decoration to remove my fou smell!')\n",
    "\n",
    "a_funcion_requiring_decoration_2()\n",
    "print(a_funcion_requiring_decoration_2.__name__)    # __name__问题解决"
   ]
  },
  {
   "cell_type": "code",
   "execution_count": 69,
   "metadata": {},
   "outputs": [
    {
     "name": "stdout",
     "output_type": "stream",
     "text": [
      "Function is running.\n",
      "Function will not run.\n"
     ]
    }
   ],
   "source": [
    "# 装饰器应用场景的蓝本规范\n",
    "def decorator_name(f):\n",
    "    @wraps(f)\n",
    "    def decorated(*args, **kwargs):\n",
    "        if not can_run:\n",
    "            return 'Function will not run.'\n",
    "        return f(*args, **kwargs)\n",
    "    \n",
    "    return decorated\n",
    "\n",
    "@decorator_name\n",
    "def func():\n",
    "    return 'Function is running.'\n",
    "\n",
    "can_run = True\n",
    "print(func())\n",
    "\n",
    "can_run = False\n",
    "print(func())"
   ]
  },
  {
   "cell_type": "code",
   "execution_count": 74,
   "metadata": {},
   "outputs": [
    {
     "name": "stdout",
     "output_type": "stream",
     "text": [
      "addition_func was called.\n",
      "14\n"
     ]
    }
   ],
   "source": [
    "# 装饰器的应用--授权，用于后端\n",
    "#              日志logging\n",
    "\n",
    "# 日志\n",
    "def logit(func):\n",
    "    @wraps(func)\n",
    "    def with_logging(*args, **kwargs):\n",
    "        print(f'{func.__name__} was called.')\n",
    "        return func(*args, **kwargs)        # 这里要将 被修饰函数 的返回值进行返回，否则程序不正常\n",
    "    \n",
    "    return with_logging\n",
    "\n",
    "@logit      # 用logit修饰addition_func, 改变函数功能\n",
    "def addition_func(x):\n",
    "    return 2 * x\n",
    "\n",
    "print(addition_func(7))"
   ]
  },
  {
   "cell_type": "code",
   "execution_count": 77,
   "metadata": {},
   "outputs": [
    {
     "name": "stdout",
     "output_type": "stream",
     "text": [
      "myfunc1 was called.\n",
      "myfunc2 was called.\n"
     ]
    }
   ],
   "source": [
    "# 带参数的 装饰器\n",
    "# 以上使用装饰器时都是@decrator，后面不带参，实际上是包含一个 以函数为参数 的包裹函数\n",
    "# 下面我们学习一下能返回 包裹函数 的函数：就是在修饰器函数外面又套了一层函数而已，并不难理解\n",
    "def logit(logfile='out.log'):\n",
    "    def logging_decorator(func):    # 这才是真正的修饰函数\n",
    "        @wraps(func)\n",
    "        def wrapped_func(*args, **kwargs):\n",
    "            log = func.__name__ + ' was called.'\n",
    "            print(log)\n",
    "            with open(logfile, 'a') as f:\n",
    "                f.write(log)\n",
    "            return func(*args, **kwargs)\n",
    "        return wrapped_func\n",
    "    return logging_decorator\n",
    "\n",
    "\n",
    "@logit()    # 之前不带()是默认接收1个函数做为参数，现在带()因为外面又包了一层，好处是可以添加额外的参数了\n",
    "def myfunc1():\n",
    "    pass\n",
    "\n",
    "myfunc1()   # 打印log；文件出现log内容\n",
    "\n",
    "@logit('mylog.log')\n",
    "def myfunc2():\n",
    "    pass\n",
    "\n",
    "myfunc2()"
   ]
  },
  {
   "cell_type": "code",
   "execution_count": null,
   "metadata": {},
   "outputs": [],
   "source": []
  }
 ],
 "metadata": {
  "kernelspec": {
   "display_name": "pt17",
   "language": "python",
   "name": "python3"
  },
  "language_info": {
   "codemirror_mode": {
    "name": "ipython",
    "version": 3
   },
   "file_extension": ".py",
   "mimetype": "text/x-python",
   "name": "python",
   "nbconvert_exporter": "python",
   "pygments_lexer": "ipython3",
   "version": "3.8.16"
  },
  "orig_nbformat": 4
 },
 "nbformat": 4,
 "nbformat_minor": 2
}
