{
 "cells": [
  {
   "attachments": {},
   "cell_type": "markdown",
   "metadata": {},
   "source": [
    "简单测试了几张图片，mmpretrain的预测结果要比torchvision好"
   ]
  },
  {
   "cell_type": "code",
   "execution_count": 1,
   "metadata": {},
   "outputs": [
    {
     "name": "stderr",
     "output_type": "stream",
     "text": [
      "d:\\Anaconda3\\envs\\py37\\lib\\site-packages\\tqdm\\auto.py:21: TqdmWarning: IProgress not found. Please update jupyter and ipywidgets. See https://ipywidgets.readthedocs.io/en/stable/user_install.html\n",
      "  from .autonotebook import tqdm as notebook_tqdm\n"
     ]
    }
   ],
   "source": [
    "import torch\n",
    "import os\n",
    "import cv2\n",
    "import numpy as np\n",
    "import matplotlib.pyplot as plt\n",
    "from mmpretrain import get_model, inference_model\n",
    "from PIL import Image\n",
    "from torchvision import transforms, models\n",
    "\n",
    "os.environ['TORCH_HOME'] = '../data/pretrain_weights/'"
   ]
  },
  {
   "cell_type": "code",
   "execution_count": 2,
   "metadata": {},
   "outputs": [
    {
     "name": "stderr",
     "output_type": "stream",
     "text": [
      "d:\\Anaconda3\\envs\\py37\\lib\\site-packages\\mmcv\\cnn\\bricks\\conv_module.py:154: UserWarning: Unnecessary conv bias before batch/instance norm\n",
      "  'Unnecessary conv bias before batch/instance norm')\n"
     ]
    },
    {
     "name": "stdout",
     "output_type": "stream",
     "text": [
      "Loads checkpoint by http backend from path: https://download.openmmlab.com/mmclassification/v0/vgg/vgg16_bn_batch256_imagenet_20210208-7e55cd29.pth\n"
     ]
    }
   ],
   "source": [
    "model = get_model('vgg16bn_8xb32_in1k', pretrained=True, device='cpu')"
   ]
  },
  {
   "cell_type": "code",
   "execution_count": 11,
   "metadata": {},
   "outputs": [
    {
     "data": {
      "text/plain": [
       "torch.Size([1, 3, 224, 224])"
      ]
     },
     "execution_count": 11,
     "metadata": {},
     "output_type": "execute_result"
    }
   ],
   "source": [
    "image = Image.open('images/catdog.jpg')\n",
    "trans = transforms.Compose([\n",
    "    transforms.Resize(256),\n",
    "    transforms.CenterCrop(224),\n",
    "    transforms.ToTensor()\n",
    "])\n",
    "img = trans(image).unsqueeze(0)\n",
    "img.shape"
   ]
  },
  {
   "cell_type": "code",
   "execution_count": 30,
   "metadata": {},
   "outputs": [
    {
     "data": {
      "text/plain": [
       "tensor(254)"
      ]
     },
     "execution_count": 30,
     "metadata": {},
     "output_type": "execute_result"
    }
   ],
   "source": [
    "model.eval()\n",
    "output = model(img)\n",
    "output.argmax()"
   ]
  },
  {
   "cell_type": "code",
   "execution_count": 13,
   "metadata": {},
   "outputs": [
    {
     "data": {
      "text/html": [
       "<pre style=\"white-space:pre;overflow-x:auto;line-height:normal;font-family:Menlo,'DejaVu Sans Mono',consolas,'Courier New',monospace\">d:\\Anaconda3\\envs\\py37\\lib\\site-packages\\rich\\live.py:229: UserWarning: install \"ipywidgets\" for Jupyter support\n",
       "  warnings.warn('install \"ipywidgets\" for Jupyter support')\n",
       "</pre>\n"
      ],
      "text/plain": [
       "d:\\Anaconda3\\envs\\py37\\lib\\site-packages\\rich\\live.py:229: UserWarning: install \"ipywidgets\" for Jupyter support\n",
       "  warnings.warn('install \"ipywidgets\" for Jupyter support')\n"
      ]
     },
     "metadata": {},
     "output_type": "display_data"
    },
    {
     "data": {
      "text/html": [
       "<pre style=\"white-space:pre;overflow-x:auto;line-height:normal;font-family:Menlo,'DejaVu Sans Mono',consolas,'Courier New',monospace\"></pre>\n"
      ],
      "text/plain": []
     },
     "metadata": {},
     "output_type": "display_data"
    },
    {
     "data": {
      "text/html": [
       "<pre style=\"white-space:pre;overflow-x:auto;line-height:normal;font-family:Menlo,'DejaVu Sans Mono',consolas,'Courier New',monospace\">\n",
       "</pre>\n"
      ],
      "text/plain": [
       "\n"
      ]
     },
     "metadata": {},
     "output_type": "display_data"
    },
    {
     "data": {
      "text/plain": [
       "(151, 'Chihuahua', 0.7618363499641418)"
      ]
     },
     "execution_count": 13,
     "metadata": {},
     "output_type": "execute_result"
    }
   ],
   "source": [
    "output1 = inference_model(model, 'images/catdog.jpg', device='cpu')\n",
    "output1['pred_label'], output1['pred_class'], output1['pred_score']"
   ]
  },
  {
   "cell_type": "code",
   "execution_count": 16,
   "metadata": {},
   "outputs": [
    {
     "data": {
      "text/plain": [
       "odict_keys(['backbone.features.0.conv.weight', 'backbone.features.0.conv.bias', 'backbone.features.0.bn.weight', 'backbone.features.0.bn.bias', 'backbone.features.0.bn.running_mean', 'backbone.features.0.bn.running_var', 'backbone.features.0.bn.num_batches_tracked', 'backbone.features.1.conv.weight', 'backbone.features.1.conv.bias', 'backbone.features.1.bn.weight', 'backbone.features.1.bn.bias', 'backbone.features.1.bn.running_mean', 'backbone.features.1.bn.running_var', 'backbone.features.1.bn.num_batches_tracked', 'backbone.features.3.conv.weight', 'backbone.features.3.conv.bias', 'backbone.features.3.bn.weight', 'backbone.features.3.bn.bias', 'backbone.features.3.bn.running_mean', 'backbone.features.3.bn.running_var', 'backbone.features.3.bn.num_batches_tracked', 'backbone.features.4.conv.weight', 'backbone.features.4.conv.bias', 'backbone.features.4.bn.weight', 'backbone.features.4.bn.bias', 'backbone.features.4.bn.running_mean', 'backbone.features.4.bn.running_var', 'backbone.features.4.bn.num_batches_tracked', 'backbone.features.6.conv.weight', 'backbone.features.6.conv.bias', 'backbone.features.6.bn.weight', 'backbone.features.6.bn.bias', 'backbone.features.6.bn.running_mean', 'backbone.features.6.bn.running_var', 'backbone.features.6.bn.num_batches_tracked', 'backbone.features.7.conv.weight', 'backbone.features.7.conv.bias', 'backbone.features.7.bn.weight', 'backbone.features.7.bn.bias', 'backbone.features.7.bn.running_mean', 'backbone.features.7.bn.running_var', 'backbone.features.7.bn.num_batches_tracked', 'backbone.features.8.conv.weight', 'backbone.features.8.conv.bias', 'backbone.features.8.bn.weight', 'backbone.features.8.bn.bias', 'backbone.features.8.bn.running_mean', 'backbone.features.8.bn.running_var', 'backbone.features.8.bn.num_batches_tracked', 'backbone.features.10.conv.weight', 'backbone.features.10.conv.bias', 'backbone.features.10.bn.weight', 'backbone.features.10.bn.bias', 'backbone.features.10.bn.running_mean', 'backbone.features.10.bn.running_var', 'backbone.features.10.bn.num_batches_tracked', 'backbone.features.11.conv.weight', 'backbone.features.11.conv.bias', 'backbone.features.11.bn.weight', 'backbone.features.11.bn.bias', 'backbone.features.11.bn.running_mean', 'backbone.features.11.bn.running_var', 'backbone.features.11.bn.num_batches_tracked', 'backbone.features.12.conv.weight', 'backbone.features.12.conv.bias', 'backbone.features.12.bn.weight', 'backbone.features.12.bn.bias', 'backbone.features.12.bn.running_mean', 'backbone.features.12.bn.running_var', 'backbone.features.12.bn.num_batches_tracked', 'backbone.features.14.conv.weight', 'backbone.features.14.conv.bias', 'backbone.features.14.bn.weight', 'backbone.features.14.bn.bias', 'backbone.features.14.bn.running_mean', 'backbone.features.14.bn.running_var', 'backbone.features.14.bn.num_batches_tracked', 'backbone.features.15.conv.weight', 'backbone.features.15.conv.bias', 'backbone.features.15.bn.weight', 'backbone.features.15.bn.bias', 'backbone.features.15.bn.running_mean', 'backbone.features.15.bn.running_var', 'backbone.features.15.bn.num_batches_tracked', 'backbone.features.16.conv.weight', 'backbone.features.16.conv.bias', 'backbone.features.16.bn.weight', 'backbone.features.16.bn.bias', 'backbone.features.16.bn.running_mean', 'backbone.features.16.bn.running_var', 'backbone.features.16.bn.num_batches_tracked', 'backbone.classifier.0.weight', 'backbone.classifier.0.bias', 'backbone.classifier.3.weight', 'backbone.classifier.3.bias', 'backbone.classifier.6.weight', 'backbone.classifier.6.bias'])"
      ]
     },
     "execution_count": 16,
     "metadata": {},
     "output_type": "execute_result"
    }
   ],
   "source": [
    "model.state_dict().keys()"
   ]
  },
  {
   "cell_type": "code",
   "execution_count": 26,
   "metadata": {},
   "outputs": [
    {
     "data": {
      "text/plain": [
       "{}"
      ]
     },
     "execution_count": 26,
     "metadata": {},
     "output_type": "execute_result"
    }
   ],
   "source": [
    "dict(model.data_preprocessor.named_children())"
   ]
  },
  {
   "cell_type": "code",
   "execution_count": 29,
   "metadata": {},
   "outputs": [
    {
     "data": {
      "text/plain": [
       "tensor(284)"
      ]
     },
     "execution_count": 29,
     "metadata": {},
     "output_type": "execute_result"
    }
   ],
   "source": [
    "vgg = models.vgg16_bn(pretrained=True)\n",
    "vgg.eval()\n",
    "output2 = vgg(img)\n",
    "output2.argmax()"
   ]
  },
  {
   "cell_type": "code",
   "execution_count": null,
   "metadata": {},
   "outputs": [],
   "source": []
  }
 ],
 "metadata": {
  "kernelspec": {
   "display_name": "py37",
   "language": "python",
   "name": "python3"
  },
  "language_info": {
   "codemirror_mode": {
    "name": "ipython",
    "version": 3
   },
   "file_extension": ".py",
   "mimetype": "text/x-python",
   "name": "python",
   "nbconvert_exporter": "python",
   "pygments_lexer": "ipython3",
   "version": "3.7.5"
  },
  "orig_nbformat": 4
 },
 "nbformat": 4,
 "nbformat_minor": 2
}
