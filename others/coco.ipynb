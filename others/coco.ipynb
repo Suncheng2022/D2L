{
 "cells": [
  {
   "cell_type": "code",
   "execution_count": 13,
   "metadata": {
    "collapsed": true
   },
   "outputs": [],
   "source": [
    "%matplotlib inline\n",
    "from pycocotools.coco import COCO\n",
    "from PIL import Image\n",
    "import matplotlib.pyplot as plt\n",
    "# import skimage.io as io\n",
    "import pylab\n",
    "import numpy as np\n",
    "import os\n",
    "pylab.rcParams['figure.figsize'] = (8., 10.)"
   ]
  },
  {
   "cell_type": "code",
   "execution_count": 14,
   "outputs": [
    {
     "name": "stdout",
     "output_type": "stream",
     "text": [
      "loading annotations into memory...\n",
      "Done (t=1.29s)\n",
      "creating index...\n",
      "index created!\n"
     ]
    }
   ],
   "source": [
    "dataDir = './data'\n",
    "dataType = 'val2017'\n",
    "annFile = f'{dataDir}/instances_{dataType}.json'\n",
    "\n",
    "coco = COCO(annFile)"
   ],
   "metadata": {
    "collapsed": false
   }
  },
  {
   "cell_type": "code",
   "execution_count": 15,
   "outputs": [
    {
     "name": "stdout",
     "output_type": "stream",
     "text": [
      "COCO categories:person bicycle car motorcycle airplane bus train truck boat traffic light fire hydrant stop sign parking meter bench bird cat dog horse sheep cow elephant bear zebra giraffe backpack umbrella handbag tie suitcase frisbee skis snowboard sports ball kite baseball bat baseball glove skateboard surfboard tennis racket bottle wine glass cup fork knife spoon bowl banana apple sandwich orange broccoli carrot hot dog pizza donut cake chair couch potted plant bed dining table toilet tv laptop mouse remote keyboard cell phone microwave oven toaster sink refrigerator book clock vase scissors teddy bear hair drier toothbrush\n",
      "COCO supercategories:person kitchen appliance sports indoor animal food furniture vehicle outdoor accessory electronic\n"
     ]
    }
   ],
   "source": [
    "cats = coco.loadCats(coco.getCatIds())\n",
    "nums = [cat['name'] for cat in cats]\n",
    "print(f'COCO categories:{\" \".join(nums)}')\n",
    "\n",
    "nums = set([cat['supercategory'] for cat in cats])\n",
    "print(f'COCO supercategories:{\" \".join(nums)}')"
   ],
   "metadata": {
    "collapsed": false
   }
  },
  {
   "cell_type": "code",
   "execution_count": 19,
   "outputs": [
    {
     "name": "stdout",
     "output_type": "stream",
     "text": [
      "{'license': 4, 'file_name': '000000184324.jpg', 'coco_url': 'http://images.cocodataset.org/val2017/000000184324.jpg', 'height': 425, 'width': 640, 'date_captured': '2013-11-17 05:31:28', 'flickr_url': 'http://farm4.staticflickr.com/3568/3364389746_361655c747_z.jpg', 'id': 184324}\n"
     ]
    }
   ],
   "source": [
    "catIds = coco.getCatIds(catNms=['bicycle'])     # 似乎从1开始\n",
    "imgIds = coco.getImgIds(catIds=catIds)\n",
    "imgIds = coco.getImgIds(imgIds=imgIds[0])\n",
    "img = coco.loadImgs(ids=imgIds[np.random.randint(0, len(imgIds))])[0]\n",
    "print(img)"
   ],
   "metadata": {
    "collapsed": false
   }
  },
  {
   "cell_type": "code",
   "execution_count": 24,
   "outputs": [
    {
     "name": "stdout",
     "output_type": "stream",
     "text": [
      "loading annotations into memory...\n",
      "Done (t=1.41s)\n",
      "creating index...\n",
      "index created!\n"
     ]
    }
   ],
   "source": [
    "annFile = './data/captions_train2017.json'\n",
    "coco_caps = COCO(annFile)"
   ],
   "metadata": {
    "collapsed": false
   }
  },
  {
   "cell_type": "code",
   "execution_count": 31,
   "outputs": [
    {
     "data": {
      "text/plain": "391895"
     },
     "execution_count": 31,
     "metadata": {},
     "output_type": "execute_result"
    }
   ],
   "source": [
    "list(coco_caps.imgs.keys())[0]"
   ],
   "metadata": {
    "collapsed": false
   }
  },
  {
   "cell_type": "code",
   "execution_count": 37,
   "outputs": [],
   "source": [
    "annIds = coco_caps.getAnnIds(imgIds=list(coco_caps.imgs.keys())[0])"
   ],
   "metadata": {
    "collapsed": false
   }
  },
  {
   "cell_type": "code",
   "execution_count": 39,
   "outputs": [],
   "source": [
    "anns = coco_caps.loadAnns(ids=annIds)"
   ],
   "metadata": {
    "collapsed": false
   }
  },
  {
   "cell_type": "code",
   "execution_count": 40,
   "outputs": [
    {
     "name": "stdout",
     "output_type": "stream",
     "text": [
      "A man with a red helmet on a small moped on a dirt road. \n",
      "Man riding a motor bike on a dirt road on the countryside.\n",
      "A man riding on the back of a motorcycle.\n",
      "A dirt path with a young person on a motor bike rests to the foreground of a verdant area with a bridge and a background of cloud-wreathed mountains. \n",
      "A man in a red shirt and a red hat is on a motorcycle on a hill side.\n"
     ]
    }
   ],
   "source": [
    "coco_caps.showAnns(anns)"
   ],
   "metadata": {
    "collapsed": false
   }
  },
  {
   "cell_type": "code",
   "execution_count": 42,
   "outputs": [
    {
     "data": {
      "text/plain": "391895"
     },
     "execution_count": 42,
     "metadata": {},
     "output_type": "execute_result"
    }
   ],
   "source": [
    "anns[0]['image_id']"
   ],
   "metadata": {
    "collapsed": false
   }
  },
  {
   "cell_type": "code",
   "execution_count": 50,
   "outputs": [],
   "source": [
    "img = Image.open(os.path.join(r'e:/迅雷下载/train2017', '000000391895.jpg'))\n",
    "img.show()"
   ],
   "metadata": {
    "collapsed": false
   }
  },
  {
   "cell_type": "code",
   "execution_count": 48,
   "outputs": [
    {
     "data": {
      "text/plain": "'000000391895.jpg'"
     },
     "execution_count": 48,
     "metadata": {},
     "output_type": "execute_result"
    }
   ],
   "source": [
    "coco_caps.loadImgs(ids=[391895])[0]['file_name']"
   ],
   "metadata": {
    "collapsed": false
   }
  },
  {
   "cell_type": "code",
   "execution_count": null,
   "outputs": [],
   "source": [],
   "metadata": {
    "collapsed": false
   }
  }
 ],
 "metadata": {
  "kernelspec": {
   "name": "conda-env-d2l-py",
   "language": "python",
   "display_name": "Python [conda env:d2l] *"
  },
  "language_info": {
   "codemirror_mode": {
    "name": "ipython",
    "version": 2
   },
   "file_extension": ".py",
   "mimetype": "text/x-python",
   "name": "python",
   "nbconvert_exporter": "python",
   "pygments_lexer": "ipython2",
   "version": "2.7.6"
  }
 },
 "nbformat": 4,
 "nbformat_minor": 0
}
