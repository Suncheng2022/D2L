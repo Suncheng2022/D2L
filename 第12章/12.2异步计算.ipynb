{
 "cells": [
  {
   "cell_type": "code",
   "execution_count": 1,
   "metadata": {},
   "outputs": [],
   "source": [
    "\"\"\" 异步计算 今天的计算机是高度并行的系统 \"\"\"\n",
    "# Python不善于编写并行和异步代码，Python是单线程的\n",
    "# Pytorch 前端&后端 对Pytorch来说GPU操作默认是异步的，这允许我们并行执行更多的计算--CPU and GPU\n",
    "\n",
    "import os, subprocess, numpy, torch\n",
    "from torch import nn\n",
    "from d2l import torch as d2l"
   ]
  },
  {
   "cell_type": "code",
   "execution_count": 12,
   "metadata": {},
   "outputs": [
    {
     "name": "stdout",
     "output_type": "stream",
     "text": [
      "with numpy: 0.7115 sec\n",
      "with torch: 0.0020 sec\n"
     ]
    }
   ],
   "source": [
    "\"\"\" 通过后端异步处理 计算是由后端执行，而前端将控制权返回给了Python\n",
    "这种设计的好处是Python前端线程不需要执行实际的计算，因此，不管Python的性能如何，对程序的整体性能几乎没有影响 \"\"\"\n",
    "\"\"\"\n",
    "tensor * 乘，element-wise\n",
    "torch.mul 同 *\n",
    "torch.mm 数学矩阵乘法\n",
    "\"\"\"\n",
    "device = d2l.try_gpu()\n",
    "a = torch.randn(size=(1000, 1000), device=device)\n",
    "b = torch.mm(a, a)  # mm是数学里的矩阵乘法\n",
    "\n",
    "with d2l.Benchmark('with numpy'):\n",
    "    for _ in range(10):\n",
    "        a = numpy.random.normal(size=(1000, 1000))\n",
    "        b = numpy.dot(a, a)\n",
    "\n",
    "with d2l.Benchmark('with torch'):\n",
    "    for _ in range(10):\n",
    "        a = torch.randn(size=(1000, 1000), device=device)\n",
    "        b = a * a"
   ]
  },
  {
   "cell_type": "code",
   "execution_count": 16,
   "metadata": {},
   "outputs": [
    {
     "name": "stdout",
     "output_type": "stream",
     "text": [
      "Done: 0.3256 sec\n"
     ]
    }
   ],
   "source": [
    "with d2l.Benchmark():\n",
    "    for _ in range(10):\n",
    "        a = torch.randn(size=(1000, 1000), device=device)\n",
    "        b = torch.mm(a, a)\n",
    "    torch.cuda.synchronize(device)"
   ]
  },
  {
   "cell_type": "code",
   "execution_count": null,
   "metadata": {},
   "outputs": [],
   "source": []
  }
 ],
 "metadata": {
  "kernelspec": {
   "display_name": "Python 3.8.13 ('d2l')",
   "language": "python",
   "name": "python3"
  },
  "language_info": {
   "codemirror_mode": {
    "name": "ipython",
    "version": 3
   },
   "file_extension": ".py",
   "mimetype": "text/x-python",
   "name": "python",
   "nbconvert_exporter": "python",
   "pygments_lexer": "ipython3",
   "version": "3.8.13"
  },
  "orig_nbformat": 4,
  "vscode": {
   "interpreter": {
    "hash": "6330671cf013f9362c2cd1e55198b197db19b836250c5c20ff0742b9c9511c0e"
   }
  }
 },
 "nbformat": 4,
 "nbformat_minor": 2
}
