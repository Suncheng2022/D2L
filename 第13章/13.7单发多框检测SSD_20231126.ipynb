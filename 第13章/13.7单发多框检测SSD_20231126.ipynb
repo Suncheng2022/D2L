{
 "cells": [
  {
   "cell_type": "markdown",
   "metadata": {},
   "source": [
    "2023.11.26 尝试实现SSD目标检测模型"
   ]
  },
  {
   "cell_type": "code",
   "execution_count": 41,
   "metadata": {},
   "outputs": [],
   "source": [
    "%matplotlib inline\n",
    "import torch\n",
    "import torchvision\n",
    "from torch import nn\n",
    "from torch.nn import functional as F\n",
    "from d2l import torch as d2l"
   ]
  },
  {
   "cell_type": "code",
   "execution_count": 42,
   "metadata": {},
   "outputs": [],
   "source": [
    "def cls_predictor(num_inputs, num_anchors, num_classes):\n",
    "    \"\"\" 类别预测层：输入输出大小不变，输出通道表示输入上每个像素第i个锚框第j类的预测 i(q+1)+j\\n\n",
    "        @num_inputs:输入通道数\\n\n",
    "        @num_anchors:特征图每个像素位置生成num_anchors个锚框，即a\\n\n",
    "        @num_classes:共有num_classes个类别，即q\\n\"\"\"\n",
    "    return nn.Conv2d(in_channels=num_inputs, out_channels=num_anchors * (num_classes + 1),\n",
    "                     kernel_size=3, padding=1)"
   ]
  },
  {
   "cell_type": "code",
   "execution_count": 43,
   "metadata": {},
   "outputs": [],
   "source": [
    "def bbox_predictor(num_inputs, num_anchors):\n",
    "    \"\"\" 边界框预测层：类似cls_predictor，输入输出大小不变，为每个anchor预测4个位置偏移量 \"\"\"\n",
    "    return nn.Conv2d(in_channels=num_inputs, out_channels=num_anchors * 4,\n",
    "                     kernel_size=3, padding=1)"
   ]
  },
  {
   "cell_type": "code",
   "execution_count": 44,
   "metadata": {},
   "outputs": [
    {
     "data": {
      "text/plain": [
       "(torch.Size([2, 55, 20, 20]), torch.Size([2, 33, 10, 10]))"
      ]
     },
     "execution_count": 44,
     "metadata": {},
     "output_type": "execute_result"
    }
   ],
   "source": [
    "# 连结多尺度的预测\n",
    "def forward(x, block):\n",
    "    \"\"\" 即执行 block(x) \"\"\"\n",
    "    return block(x)\n",
    "\n",
    "Y1 = forward(torch.zeros(size=(2, 8, 20, 20)), cls_predictor(8, 5, 10))     # 输入特征图BCHW\n",
    "Y2 = forward(torch.zeros(size=(2, 16, 10, 10)), cls_predictor(16, 3, 10))   # 输入特征图BCHW\n",
    "Y1.shape, Y2.shape      # [2, 5 * (10 + 1) = 55, 20, 20]    [2, 3 * (10 + 1) = 33, 10, 10]，将这2个尺度的预测结果连接起来，提高计算效率"
   ]
  },
  {
   "cell_type": "code",
   "execution_count": 45,
   "metadata": {},
   "outputs": [
    {
     "data": {
      "text/plain": [
       "torch.Size([2, 25300])"
      ]
     },
     "execution_count": 45,
     "metadata": {},
     "output_type": "execute_result"
    }
   ],
   "source": [
    "def flatten_pred(pred):\n",
    "    \"\"\" 将[B,C,H,W]展平为[B,H*W*C] \"\"\"\n",
    "    return torch.flatten(input=pred.permute(0, 2, 3, 1), start_dim=1)\n",
    "\n",
    "def concat_preds(preds):\n",
    "    \"\"\" 将多个[B,H*W*C]在维度1上连结起来 \"\"\"\n",
    "    return torch.cat([flatten_pred(p) for p in preds], dim=1)\n",
    "\n",
    "concat_preds([Y1, Y2]).shape"
   ]
  },
  {
   "cell_type": "code",
   "execution_count": 46,
   "metadata": {},
   "outputs": [
    {
     "data": {
      "text/plain": [
       "torch.Size([2, 10, 10, 10])"
      ]
     },
     "execution_count": 46,
     "metadata": {},
     "output_type": "execute_result"
    }
   ],
   "source": [
    "def down_sample_blk(in_channels, out_channels):\n",
    "    \"\"\" 高宽减半块 2*Conv + 1*MaxPool \\n\n",
    "        通道数 \"\"\"\n",
    "    blk = []\n",
    "    for _ in range(2):\n",
    "        blk.append(nn.Conv2d(in_channels, out_channels, kernel_size=3, padding=1))\n",
    "        blk.append(nn.BatchNorm2d(out_channels))\n",
    "        blk.append(nn.ReLU())\n",
    "        in_channels = out_channels\n",
    "    blk.append(nn.MaxPool2d(kernel_size=2))     # MaxPool2d stride默认等于kernel_size\n",
    "    return nn.Sequential(*blk)\n",
    "\n",
    "forward(torch.zeros(size=(2, 3, 20, 20)), down_sample_blk(in_channels=3, out_channels=10)).shape      # [2,3,20,20] --> [2,10,10,10]"
   ]
  },
  {
   "cell_type": "code",
   "execution_count": 47,
   "metadata": {},
   "outputs": [
    {
     "data": {
      "text/plain": [
       "torch.Size([2, 64, 32, 32])"
      ]
     },
     "execution_count": 47,
     "metadata": {},
     "output_type": "execute_result"
    }
   ],
   "source": [
    "def base_net():\n",
    "    \"\"\" 基本网络块，抽取特征 3*down_sample_blk \"\"\"\n",
    "    blk = []\n",
    "    num_filters = [3, 16, 32, 64]\n",
    "    for i in range(len(num_filters) - 1):\n",
    "        blk.append(down_sample_blk(in_channels=num_filters[i], out_channels=num_filters[i + 1]))\n",
    "    return nn.Sequential(*blk)\n",
    "\n",
    "forward(torch.zeros(size=(2, 3, 256, 256)), base_net()).shape       # [2, 3, 256, 256] --> [2, 64, 256/2^3=32, 256/2^3=32]"
   ]
  },
  {
   "cell_type": "code",
   "execution_count": 48,
   "metadata": {},
   "outputs": [],
   "source": [
    "\"\"\" 完整的模型 \"\"\"\n",
    "def get_blk(i):\n",
    "    \"\"\" 用于构建完整模型 \"\"\"\n",
    "    if i == 0:          # 索引第0个模块，base_net\n",
    "        return base_net()\n",
    "    elif i == 1:        # 索引第1个模块，down_sample_blk\n",
    "        return down_sample_blk(in_channels=64, out_channels=128)\n",
    "    elif i == 4:        # 索引第4个模块，GAP层\n",
    "        return nn.AdaptiveAvgPool2d(output_size=(1, 1))\n",
    "    else:               # 索引第2、3个模块，down_sample_blk\n",
    "        return down_sample_blk(in_channels=128, out_channels=128)\n"
   ]
  },
  {
   "cell_type": "code",
   "execution_count": 53,
   "metadata": {},
   "outputs": [],
   "source": [
    "def blk_forward(X, blk, size, ratio, cls_predictor, bbox_predictor):\n",
    "    \"\"\" 执行前向传播，得到某层的特征图、anchors及其预测结果\\n\n",
    "        @cls_predictor:类别预测层，实际是Conv，回忆一下是不是\\n\n",
    "        @bbox_predictor:边界框预测层，实际是Conv\\n\n",
    "        输出包括:CNN特征图Y、生成的锚框anchors、anchors预测类别、偏移量 \"\"\"\n",
    "    # print(f'$$$$$$ {X.shape}', blk, end='')\n",
    "    Y = blk(X)\n",
    "    # print(f'$$$$$$ {Y.shape}')\n",
    "    anchors = d2l.multibox_prior(Y, sizes=size, ratios=ratio)           # 【一定要在.py中进去debug】\n",
    "    cls_preds = cls_predictor(Y)\n",
    "    bbox_preds = bbox_predictor(Y)\n",
    "    return (Y, anchors, cls_preds, bbox_preds)"
   ]
  },
  {
   "cell_type": "code",
   "execution_count": 50,
   "metadata": {},
   "outputs": [],
   "source": [
    "sizes = [[0.2, 0.272], [0.37, 0.447], [0.54, 0.619], [0.71, 0.79],\n",
    "         [0.88, 0.961]]\n",
    "ratios = [[1, 2, 0.5]] * 5\n",
    "num_anchors = len(sizes[0]) + len(ratios[0]) - 1"
   ]
  },
  {
   "cell_type": "code",
   "execution_count": 51,
   "metadata": {},
   "outputs": [],
   "source": [
    "class TinySSD(nn.Module):\n",
    "    def __init__(self, num_classes, **kwargs):\n",
    "        super(TinySSD, self).__init__(**kwargs)\n",
    "        self.num_classes = num_classes\n",
    "        idx_to_in_channels = [64, 128, 128, 128, 128]\n",
    "        for i in range(5):\n",
    "            setattr(self, f'blk_{i}', get_blk(i))\n",
    "            setattr(self, f'cls_{i}', cls_predictor(num_inputs=idx_to_in_channels[i], num_anchors=num_anchors, num_classes=num_classes))        # 即self.cls_i=Conv\n",
    "            setattr(self, f'bbox_{i}', bbox_predictor(num_inputs=idx_to_in_channels[i], num_anchors=num_anchors))                               # 即self.bbox_i=Conv\n",
    "        \n",
    "    def forward(self, X):\n",
    "        anchors, cls_preds, bbox_preds = [None] * 5, [None] * 5, [None] * 5\n",
    "        for i in range(5):\n",
    "            X, anchors[i], cls_preds[i], bbox_preds[i] = blk_forward(X, \n",
    "                                                                     getattr(self, f'blk_{i}'), \n",
    "                                                                     sizes[i], \n",
    "                                                                     ratios[i], \n",
    "                                                                     getattr(self, f'cls_{i}'), \n",
    "                                                                     getattr(self, f'bbox_{i}'))\n",
    "        # 【以下维度要debug】\n",
    "        anchors = torch.cat(anchors, dim=1)\n",
    "        cls_preds = concat_preds(cls_preds)\n",
    "        cls_preds = cls_preds.reshape(cls_preds.shape[0], -1, self.num_classes + 1)\n",
    "        bbox_preds = concat_preds(bbox_preds)\n",
    "        return anchors, cls_preds, bbox_preds"
   ]
  },
  {
   "cell_type": "code",
   "execution_count": 54,
   "metadata": {},
   "outputs": [
    {
     "name": "stdout",
     "output_type": "stream",
     "text": [
      "output anchors shape:torch.Size([1, 5444, 4])\n",
      "output class preds shape:torch.Size([32, 5444, 2])\n",
      "output bbox preds shape:torch.Size([32, 21776])\n"
     ]
    }
   ],
   "source": [
    "# 实例化一个模型\n",
    "net = TinySSD(num_classes=1)\n",
    "X = torch.zeros(size=(32, 3, 256, 256))\n",
    "anchors, cls_preds, bbox_preds = net(X)\n",
    "print(f'output anchors shape:{anchors.shape}\\n'\n",
    "      f'output class preds shape:{cls_preds.shape}\\n'\n",
    "      f'output bbox preds shape:{bbox_preds.shape}')"
   ]
  },
  {
   "cell_type": "code",
   "execution_count": null,
   "metadata": {},
   "outputs": [],
   "source": []
  }
 ],
 "metadata": {
  "kernelspec": {
   "display_name": "pt20",
   "language": "python",
   "name": "python3"
  },
  "language_info": {
   "codemirror_mode": {
    "name": "ipython",
    "version": 3
   },
   "file_extension": ".py",
   "mimetype": "text/x-python",
   "name": "python",
   "nbconvert_exporter": "python",
   "pygments_lexer": "ipython3",
   "version": "3.10.11"
  }
 },
 "nbformat": 4,
 "nbformat_minor": 2
}
