{
 "cells": [
  {
   "cell_type": "code",
   "execution_count": 7,
   "id": "0e6c5e24",
   "metadata": {},
   "outputs": [],
   "source": [
    "import numpy as np\n",
    "import torch\n",
    "from torch.utils import data\n",
    "from d2l import torch as d2l\n",
    "\n",
    "true_w = torch.tensor([2, -3.4])\n",
    "true_b = 4.2\n",
    "features, labels = d2l.synthetic_data(true_w, true_b, 1000)"
   ]
  },
  {
   "cell_type": "code",
   "execution_count": 10,
   "id": "bd48a4d0",
   "metadata": {},
   "outputs": [],
   "source": [
    "def load_array(data_arrays, batch_size, is_train=True):\n",
    "    dataset = data.TensorDataset(*data_arrays)\n",
    "    return data.DataLoader(dataset, batch_size, shuffle=is_train)\n",
    "\n",
    "batch_size = 10\n",
    "data_iter = load_array((features, labels), batch_size)"
   ]
  },
  {
   "cell_type": "code",
   "execution_count": 11,
   "id": "c9eadb1f",
   "metadata": {},
   "outputs": [
    {
     "data": {
      "text/plain": [
       "[tensor([[-0.1740,  0.3703],\n",
       "         [ 0.6195, -0.9453],\n",
       "         [-0.6452,  0.2524],\n",
       "         [ 1.4513,  0.2635],\n",
       "         [-1.8611, -0.2685],\n",
       "         [-0.1486, -1.3203],\n",
       "         [-0.2883, -0.8995],\n",
       "         [ 0.2162,  1.4462],\n",
       "         [-0.4662,  0.0549],\n",
       "         [ 0.1547,  1.1398]]),\n",
       " tensor([[ 2.5939],\n",
       "         [ 8.6671],\n",
       "         [ 2.0640],\n",
       "         [ 6.2159],\n",
       "         [ 1.3840],\n",
       "         [ 8.3917],\n",
       "         [ 6.6932],\n",
       "         [-0.2953],\n",
       "         [ 3.0811],\n",
       "         [ 0.6301]])]"
      ]
     },
     "execution_count": 11,
     "metadata": {},
     "output_type": "execute_result"
    }
   ],
   "source": [
    "next(iter(data_iter))"
   ]
  },
  {
   "cell_type": "code",
   "execution_count": 12,
   "id": "7cb8421a",
   "metadata": {},
   "outputs": [],
   "source": [
    "from torch import nn\n",
    "\n",
    "net = nn.Sequential(nn.Linear(2, 1))  # 定义一个全连接层，输入2 输出1"
   ]
  },
  {
   "cell_type": "code",
   "execution_count": 13,
   "id": "65f106f8",
   "metadata": {},
   "outputs": [
    {
     "data": {
      "text/plain": [
       "tensor([0.])"
      ]
     },
     "execution_count": 13,
     "metadata": {},
     "output_type": "execute_result"
    }
   ],
   "source": [
    "net[0].weight.data.normal_(0, 0.01)\n",
    "net[0].bias.data.fill_(0)"
   ]
  },
  {
   "cell_type": "code",
   "execution_count": 14,
   "id": "0f60345c",
   "metadata": {},
   "outputs": [],
   "source": [
    "loss = nn.MSELoss()  # 均方误差，平方L2范数，返回样本损失的平均值"
   ]
  },
  {
   "cell_type": "code",
   "execution_count": 15,
   "id": "7f2ff2ba",
   "metadata": {},
   "outputs": [],
   "source": [
    "trainer = torch.optim.SGD(net.parameters(), lr=0.03)"
   ]
  },
  {
   "cell_type": "code",
   "execution_count": 17,
   "id": "0b64c603",
   "metadata": {},
   "outputs": [
    {
     "name": "stdout",
     "output_type": "stream",
     "text": [
      "epoch 1, loss 0.000101\n",
      "epoch 2, loss 0.000101\n",
      "epoch 3, loss 0.000101\n"
     ]
    }
   ],
   "source": [
    "num_epochs = 3\n",
    "for epoch in range(num_epochs):\n",
    "    for X, y in data_iter:\n",
    "        l = loss(net(X), y)\n",
    "        trainer.zero_grad()\n",
    "        l.backward()\n",
    "        trainer.step()\n",
    "    l = loss(net(features), labels)\n",
    "    print(f'epoch {epoch + 1}, loss {l:f}')"
   ]
  },
  {
   "cell_type": "code",
   "execution_count": 18,
   "id": "184b6661",
   "metadata": {},
   "outputs": [
    {
     "name": "stdout",
     "output_type": "stream",
     "text": [
      "w的误差：tensor([-0.0006,  0.0008])\n",
      "b的误差：tensor([-0.0006])\n"
     ]
    }
   ],
   "source": [
    "w = net[0].weight.data\n",
    "print(f'w的误差：{true_w - w.reshape(true_w.shape)}')\n",
    "b = net[0].bias.data\n",
    "print(f'b的误差：{true_b - b}')"
   ]
  },
  {
   "cell_type": "code",
   "execution_count": null,
   "id": "97cdb697",
   "metadata": {},
   "outputs": [],
   "source": []
  }
 ],
 "metadata": {
  "kernelspec": {
   "display_name": "Python 3 (ipykernel)",
   "language": "python",
   "name": "python3"
  },
  "language_info": {
   "codemirror_mode": {
    "name": "ipython",
    "version": 3
   },
   "file_extension": ".py",
   "mimetype": "text/x-python",
   "name": "python",
   "nbconvert_exporter": "python",
   "pygments_lexer": "ipython3",
   "version": "3.8.13"
  }
 },
 "nbformat": 4,
 "nbformat_minor": 5
}
